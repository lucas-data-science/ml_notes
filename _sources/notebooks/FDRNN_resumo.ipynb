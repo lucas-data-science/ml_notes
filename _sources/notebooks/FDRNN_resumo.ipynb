{
 "cells": [
  {
   "cell_type": "markdown",
   "id": "77bad3ea",
   "metadata": {},
   "source": [
    "# Fonte e Resumo do Estudo"
   ]
  },
  {
   "cell_type": "markdown",
   "id": "cfc009d8",
   "metadata": {},
   "source": [
    "Esse capítulo é um estudo sobre o trabalho *Deep Direct Reinforcement Learning for Financial\n",
    "Signal Representation and Trading* de *Yue Deng, Feng Bao, Youyong Kong, Zhiquan Ren, and Qionghai Dai*, presente em {cite:p}`Deng2017`.\n",
    "Implementações do trabalho constam no endereço do Github: [https://github.com/Pandede/FDRNN](https://github.com/Pandede/FDRNN).\n",
    "\n",
    "Os autores começam O texto com a seguinte pergunta: É possível treinar um computador para superar traders experientes na negociação de ativos financeiros? Neste artigo, buscaram responder a esse desafio por meio da introdução de uma rede neural profunda recorrente para representação de sinais financeiros em tempo real e tomada de decisões de negociação. O modelo usado é inspirado em dois conceitos de aprendizagem relacionados à biologia: o aprendizado profundo (deep learning, DL) e o aprendizado por reforço (reinforcement learning, RL).\n",
    "\n",
    "No framework proposto, a parte de DL detecta automaticamente as condições dinâmicas do mercado para extrair características informativas. Em seguida, o módulo de RL interage com essas representações profundas e toma decisões de compra e venda visando maximizar os retornos em um ambiente desconhecido. O sistema de aprendizado é implementado em uma rede neural complexa que combina estruturas profundas e recorrentes. Para lidar com o problema de desaparecimento do gradiente durante o treinamento de redes profundas, eles proporam um método de retropropagação no tempo (backpropagation through time) consciente da tarefa. A robustez do sistema neural é verificada tanto no mercado de ações quanto no de contratos futuros de commodities, sob diversas condições de teste. \n",
    "\n",
    "A ideia aqui é replicar a lógica dos autores."
   ]
  }
 ],
 "metadata": {
  "kernelspec": {
   "display_name": "Python 3",
   "language": "python",
   "name": "python3"
  },
  "language_info": {
   "name": "python",
   "version": "3.8.10"
  }
 },
 "nbformat": 4,
 "nbformat_minor": 5
}
