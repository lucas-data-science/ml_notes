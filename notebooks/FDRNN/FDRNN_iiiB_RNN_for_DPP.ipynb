{
 "cells": [
  {
   "cell_type": "markdown",
   "id": "ed6e2165",
   "metadata": {},
   "source": [
    "## Rede Neural Recorrente Profunda para DDR\n",
    "\n",
    "###  De DRL para Rede Neural Recorrente\n",
    "\n",
    "Embora o modelo DRL tenha sido apresentado como uma **regressão**, ele pode ser interpretado como uma **rede neural com uma única camada** (veja a Fig. 1(a) do artigo).\n",
    "\n",
    "- O **termo de bias** não é mostrado explicitamente na figura, mas na prática ele pode ser incorporado ao vetor de pesos $\\bf w$, adicionando um valor constante (1) ao final do vetor de entrada ${\\bf f}_t$.\n",
    "- O **vetor de features ${\\bf f}_t$** (nós verdes na figura) é a entrada direta do sistema.\n",
    "- A estrutura é **recorrente**, pois há uma ligação do **output ($δ_t$) de volta para a entrada**, através do termo $u * δ_{t-1}$.\n",
    "\n",
    "Essa estrutura caracteriza uma **rede neural recorrente (RNN)**, que tem como uma de suas propriedades a **capacidade de manter memória de longo prazo**.\n",
    "\n",
    "No contexto do DRL:\n",
    "- O modelo mantém em memória as decisões anteriores de trading.\n",
    "- Isso serve para **desencorajar mudanças frequentes de posição**, o que ajuda a evitar custos de transação elevados.\n",
    "\n",
    "###  Limitação do DRL\n",
    "\n",
    "Apesar de incorporar recorrência, o **DRL sofre de uma limitação importante**:  \n",
    "Ele **não possui uma etapa explícita de aprendizado de representações** (features) para lidar com as **condições ruidosas e complexas do mercado**.\n",
    "\n",
    "---\n",
    "\n",
    "###  Introdução do Deep Learning (DL)\n",
    "\n",
    "Para superar essa limitação, o artigo propõe **integrar técnicas de Deep Learning (DL)** ao DRL. O objetivo é **unificar o aprendizado de representações (features)** com a **decisão dinâmica de trading**.\n",
    "\n",
    "- O Deep Learning é uma estrutura de aprendizado muito poderosa e já mostrou excelentes resultados em diversas tarefas de aprendizado de máquina.\n",
    "- Ele utiliza **redes neurais profundas (DNNs)** para transformar os dados **camada por camada**, extraindo **representações hierárquicas e informativas**.\n",
    "- Essas representações profundas ajudam a **capturar padrões relevantes mesmo em dados muito ruidosos** — como é o caso do mercado financeiro.\n",
    "\n",
    "###  Inspiração em neurociência\n",
    "\n",
    "O artigo também menciona que essa **transformação hierárquica profunda** é **inspirada em descobertas da neurociência**, relacionadas a como o cérebro processa e descobre informações [referências 31 e 32].\n",
    "\n",
    "### Unindo Deep Learning ao DRL\n",
    "\n",
    "Ao incorporar Deep Learning ao modelo de Reinforcement Learning Direto, o sistema original mostrado na Fig. 1(a) evolui para a Fig. 1(b):\n",
    "\n",
    "- Um **bloco de aprendizado de representações (painel azul)** é adicionado **antes da rede recorrente**, formando o que chamam de **Deep Recurrent Neural Network (DRNN)**.\n",
    "- A ideia é aplicar uma **transformação profunda ao vetor de entrada ${\\bf f}_t$** antes de gerar a decisão de trading.\n",
    "\n",
    "Essa transformação é definida como:\n",
    "\n",
    "$$\n",
    "{\\bf F}_t = g_d({\\bf f}_t)\n",
    "$$\n",
    "\n",
    "Ou seja, o vetor de entrada ${\\bf f}_t$ passa por uma **DNN (rede neural profunda)** com mapeamento não-linear $g_d(·)$ e resulta em uma **representação mais abstrata e informativa ${\\bf F}_t$**.\n",
    "\n",
    "A equação de decisão final fica:\n",
    "\n",
    "$$\n",
    "δ_t = tanh({\\bf w}· g_d({\\bf f}_t) + b + u · δ_{t−1})\n",
    "$$\n"
   ]
  },
  {
   "cell_type": "markdown",
   "id": "d69f05fb",
   "metadata": {
    "vscode": {
     "languageId": "plaintext"
    }
   },
   "source": [
    "\n",
    "Essa é a **Equação (5)** do artigo. Ela mantém a estrutura original do DRL, mas agora a entrada do modelo é \n",
    "uma **representação profunda**, em vez do vetor bruto de retornos.\n",
    "\n",
    "---\n",
    "\n",
    "### Estrutura da Rede Profunda\n",
    "\n",
    "O artigo explica como a DNN é construída:\n",
    "\n",
    "- A rede profunda é formada por **múltiplas camadas ocultas totalmente conectadas**:\n",
    "  - Cada neurônio da camada (l+1) está conectado a **todos os neurônios da camada l anterior**.\n",
    "  - Isso caracteriza uma **arquitetura \"fully connected\"**.\n",
    "\n",
    "#### Funcionamento de cada camada (Equação 6)\n",
    "\n",
    "Para cada neurônio na camada $l$:\n",
    "\n",
    "- $a_i^l$ representa a **entrada linear** do neurônio $i$ na camada $l$.\n",
    "- $o_i^l$ representa a **saída ativada** desse neurônio.\n",
    "\n",
    "As fórmulas são:\n",
    "\n",
    "$$a_i^l = \\left <{\\bf w}_i^l, {\\bf o}_i^{(l-1)} \\right > + b_i^l$$  \n",
    "$$o_i^l = \\frac{1} {(1 + exp(-a_i^l))} ←  sigmoide$$ "
   ]
  },
  {
   "cell_type": "markdown",
   "id": "a08a4d93",
   "metadata": {
    "vscode": {
     "languageId": "plaintext"
    }
   },
   "source": [
    "\n",
    "Ou seja:\n",
    "- Cada neurônio realiza uma **soma ponderada dos sinais da camada anterior**.\n",
    "- O resultado passa por uma **função de ativação não-linear (sigmoide)**.\n",
    "- Isso permite capturar **relações complexas e não-lineares entre os dados**.\n",
    "\n",
    "---\n",
    "\n",
    "###  Configuração usada no artigo\n",
    "\n",
    "- A parte de **transformação profunda** ($g_d$) tem:\n",
    "  - **4 camadas ocultas**\n",
    "  - **128 neurônios por camada**\n",
    "  - Todas as camadas são totalmente conectadas (fully connected)\n",
    "  - Ativação sigmoide entre camadas\n",
    "\n",
    "Essa estrutura permite à rede **aprender representações cada vez mais abstratas dos dados de mercado**, camada após camada, antes de tomar uma decisão.\n",
    "\n",
    "---\n",
    "\n",
    "###  Conclusão\n",
    "\n",
    "Ao aplicar Deep Learning ao DRL:\n",
    "- O modelo passa a **aprender os padrões relevantes do mercado automaticamente**, a partir dos dados brutos.\n",
    "- A rede neural profunda transforma o vetor ${\\bf f}_t$ em ${\\bf F}_t$, uma representação mais rica.\n",
    "- O modelo final, o **DRNN**, une:\n",
    "  - Aprendizado de representações (DL)\n",
    "  - Memória temporal (recorrência)\n",
    "  - Decisões de trading diretas (sem previsão intermediária)\n",
    "\n",
    "Essa abordagem prepara o caminho para a próxima seção, onde será discutido **como treinar essa rede profunda com recorrência de forma eficiente**.\n"
   ]
  },
  {
   "cell_type": "code",
   "execution_count": null,
   "id": "eb2c9747",
   "metadata": {
    "vscode": {
     "languageId": "plaintext"
    }
   },
   "outputs": [],
   "source": []
  }
 ],
 "metadata": {
  "kernelspec": {
   "display_name": "Python 3",
   "language": "python",
   "name": "python3"
  },
  "language_info": {
   "name": "python",
   "version": "3.8.10"
  }
 },
 "nbformat": 4,
 "nbformat_minor": 5
}
