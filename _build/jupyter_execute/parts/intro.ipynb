{
 "cells": [
  {
   "attachments": {},
   "cell_type": "markdown",
   "metadata": {},
   "source": [
    "#  Pandas \n",
    "\n",
    "<img src=\"https://pandas.pydata.org/docs/_static/pandas.svg\" alt=\" \" class=\"bg-primary mb-1\" width=\"200px\">\n",
    " \n",
    "\n",
    "A documentação do pacote Pandas se encontra disponível em: [https://pandas.pydata.org/docs/](https://pandas.pydata.org/docs/) .\n",
    "<!-- \n",
    "\n",
    "$\n",
    "1+2\n",
    "$\n",
    "\n",
    "\\begin{gather*}\n",
    "a_1=b_1+c_1\\\\\n",
    "a_2=b_2+c_2-d_2+e_2\n",
    "\\end{gather*}\n",
    "\n",
    "\\begin{align}\n",
    "a_{11}& =b_{11}&\n",
    "  a_{12}& =b_{12}\\\\\n",
    "a_{21}& =b_{21}&\n",
    "  a_{22}& =b_{22}+c_{22}\n",
    "\\end{align}\n",
    "  -->\n",
    "\n"
   ]
  },
  {
   "cell_type": "markdown",
   "metadata": {},
   "source": [
    "```{contents} \n",
    "```"
   ]
  },
  {
   "attachments": {},
   "cell_type": "markdown",
   "metadata": {},
   "source": [
    "## Criação de dois dataframes para aplicação das ferramentas do Pandas\n",
    "\n",
    "Serão criados dois dataframes com notas de alunos em algumas disciplinas em meses do ano de 2023. Os nomes dos alunos são gerados aleatoriamente, bem como suas as notas. Se você não tiver disposto a seguir o processo de geração das bases de dados, pule para a próxima seção, onde os dataframes serão lidos de arquivos e usados para treinar o uso das ferramentas do Pandas. "
   ]
  },
  {
   "cell_type": "code",
   "execution_count": 1,
   "metadata": {},
   "outputs": [
    {
     "data": {
      "text/plain": [
       "'1.4.2'"
      ]
     },
     "execution_count": 1,
     "metadata": {},
     "output_type": "execute_result"
    }
   ],
   "source": [
    "# importação do pandas\n",
    "import pandas as pd\n",
    "# versão\n",
    "pd.__version__ "
   ]
  }
 ],
 "metadata": {
  "kernelspec": {
   "display_name": "Python 3 (ipykernel)",
   "language": "python",
   "name": "python3"
  },
  "language_info": {
   "codemirror_mode": {
    "name": "ipython",
    "version": 3
   },
   "file_extension": ".py",
   "mimetype": "text/x-python",
   "name": "python",
   "nbconvert_exporter": "python",
   "pygments_lexer": "ipython3",
   "version": "3.8.10"
  },
  "toc": {
   "base_numbering": 1,
   "nav_menu": {},
   "number_sections": true,
   "sideBar": true,
   "skip_h1_title": false,
   "title_cell": "Table of Contents",
   "title_sidebar": "Contents",
   "toc_cell": false,
   "toc_position": {},
   "toc_section_display": true,
   "toc_window_display": false
  },
  "widgets": {
   "application/vnd.jupyter.widget-state+json": {
    "state": {},
    "version_major": 2,
    "version_minor": 0
   }
  }
 },
 "nbformat": 4,
 "nbformat_minor": 4
}