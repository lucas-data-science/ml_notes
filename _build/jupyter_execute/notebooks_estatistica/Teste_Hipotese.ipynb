{
 "cells": [
  {
   "cell_type": "markdown",
   "metadata": {},
   "source": [
    "## Testes de Hipóteses e Inferência Estatística\n",
    "\n",
    "Na parte sobre distribuições vimos vários tipos de distribuições para vários tipos de dados e também com calcular a probailidade associada a algumas distribuições. \n",
    "\n",
    "Agora vamos fazer alguns exercícios que consistem em testar hipóteses.  \n",
    "Experimentos desse tipo estão presente em estatística aplicada a áreas diversas como medicina, economia, engenharia, ciências sociais e, especialmente, ciência de dados. O objetivo é claro: construir experimentos capazes de **confirmar ou rejeitar uma hipótese**, com base em evidências empíricas.\n",
    "\n",
    "No contexto da ciência de dados, essa necessidade se manifesta frequentemente em situações como **testes A/B**, **otimização de interfaces de usuário**, **campanhas de marketing**, **modelagem de conversão** e muitas outras aplicações práticas. Nesses cenários, somos confrontados com perguntas do tipo:\n",
    "\n",
    "- \"Essa nova funcionalidade aumenta o engajamento dos usuários?\"\n",
    "- \"Esse modelo de precificação gera mais receita que o anterior?\"\n",
    "- \"Essa recomendação personalizada converte mais que o padrão?\"\n",
    "\n",
    "Responder a essas perguntas exige mais do que observação casual: requer **estrutura experimental, análise rigorosa e inferência estatística**.\n",
    "\n",
    "---\n",
    "<div class=\"unnumbered-subsection\">\n",
    "\n",
    "### A Cadeia Clássica da Inferência Estatística\n",
    "</div>\n",
    "\n",
    "Sempre que você se deparar com termos como **significância estatística**, **teste t** ou **valor p**, eles estão inseridos em um processo estruturado, muitas vezes chamado de **cadeia clássica da inferência estatística**, que pode ser descrita nos seguintes passos:\n",
    "\n",
    "1. **Formulação da Hipótese**  \n",
    "   Uma hipótese clara e testável é estabelecida. Por exemplo:  \n",
    "   > “O modelo A gera maior taxa de conversão que o modelo B.”\n",
    "\n",
    "2. **Desenho do Experimento**  \n",
    "   Um experimento (muitas vezes randomizado) é planejado para **testar essa hipótese**, garantindo que os dados coletados serão confiáveis e permitirão conclusões robustas.\n",
    "\n",
    "3. **Coleta e Análise de Dados**  \n",
    "   Os dados do experimento são coletados e analisados com ferramentas estatísticas apropriadas, como **intervalos de confiança**, **testes t**, **testes de proporções**, entre outros.\n",
    "\n",
    "4. **Inferência e Conclusão**  \n",
    "   Com base nos resultados, tomamos decisões: **rejeitar ou não a hipótese nula**. A ideia é generalizar os achados do experimento para uma população ou contexto mais amplo.\n",
    "\n",
    "O termo **inferência** destaca justamente essa intenção de extrapolar o conhecimento obtido em uma **amostra limitada de dados** para inferir algo mais geral, com grau de confiança quantificado.\n",
    "\n",
    "---\n",
    "\n",
    "<div class=\"unnumbered-subsection\">\n",
    "\n",
    "### Intervalos de Confiança e Testes de Hipóteses\n",
    "</div>\n",
    "\n",
    "Uma das primeiras ferramentas utilizadas nesse processo são os **intervalos de confiança**. Eles fornecem uma estimativa de onde, com determinada confiança (por exemplo, 95%), está o parâmetro real da população (como uma média, proporção, ou diferença entre grupos). Esses intervalos ajudam a entender a **precisão das estimativas** e servem de base para decisões formais em testes de hipótese.\n",
    "\n",
    "Por exemplo, se ao comparar duas versões de uma interface de usuário, o intervalo de confiança da diferença entre as taxas de conversão **não contém zero**, temos uma indicação de que **existe uma diferença estatisticamente significativa** entre as versões — o que pode motivar uma ação prática.\n",
    "\n",
    "---\n",
    "\n",
    "Neste capítulo, vamos explorar os principais conceitos e métodos ligados à inferência estatística e aos testes de hipóteses, com foco em aplicações reais na ciência de dados. Entre os tópicos abordados, estão:\n",
    "\n",
    "- Intervalos de confiança – cálculos passo a passo\n",
    "- Distribuição T Student\n",
    "- Intervalos de confiança e Classificação\n",
    "- Testes de hipóteses\n",
    "- Teste Z\n",
    "- Teste T\n",
    "- Qui quadrado\n",
    "- ANOVA\n",
    "- Qui quadrado e ANOVA para seleção de atributos\n",
    "- Testes de Wilcoxon, Friedman e Nemenyi\n",
    "- Aplicações para avaliação de algoritmos/trabalhos científicos\n",
    "\n",
    "Vamos construir esse conhecimento passo a passo, conectando a teoria estatística com a prática do dia a dia no desenvolvimento de produtos, experimentação e tomada de decisões baseadas em dados.\n"
   ]
  },
  {
   "cell_type": "markdown",
   "metadata": {},
   "source": [
    "### Intervalo de Confiança"
   ]
  },
  {
   "cell_type": "markdown",
   "metadata": {},
   "source": [
    "Os intervalos de confiança são usados para estimar um parâmetro populacional com base em dados amostrais, fornecendo uma faixa dentro da qual o valor verdadeiro provavelmente se encontra.\n",
    "\n",
    "---\n",
    "\n",
    "#### IC para a Média (σ conhecido, distribuição Normal)\n",
    "\n",
    "$$\n",
    "IC = \\bar{x} \\pm z_{\\alpha/2} \\cdot \\frac{\\sigma}{\\sqrt{n}}\n",
    "$$\n",
    "\n",
    "Onde:\n",
    "- $\\bar{x}$ = média amostral  \n",
    "- $z_{\\alpha/2}$ = valor crítico da normal padrão  (z-score, tabelado)\n",
    "- $\\sigma$ = desvio padrão populacional  \n",
    "- $n$ = tamanho da amostra\n"
   ]
  },
  {
   "cell_type": "code",
   "execution_count": 1,
   "metadata": {},
   "outputs": [
    {
     "name": "stderr",
     "output_type": "stream",
     "text": [
      "C:\\Users\\lucas.souza\\AppData\\Local\\Temp\\ipykernel_15448\\4205328392.py:2: UserWarning: A NumPy version >=1.23.5 and <2.3.0 is required for this version of SciPy (detected version 2.3.0)\n",
      "  from scipy.stats import norm\n",
      "\n",
      "A module that was compiled using NumPy 1.x cannot be run in\n",
      "NumPy 2.3.0 as it may crash. To support both 1.x and 2.x\n",
      "versions of NumPy, modules must be compiled with NumPy 2.0.\n",
      "Some module may need to rebuild instead e.g. with 'pybind11>=2.12'.\n",
      "\n",
      "If you are a user of the module, the easiest solution will be to\n",
      "downgrade to 'numpy<2' or try to upgrade the affected module.\n",
      "We expect that some modules will need time to support NumPy 2.\n",
      "\n",
      "Traceback (most recent call last):  File \"<frozen runpy>\", line 198, in _run_module_as_main\n",
      "  File \"<frozen runpy>\", line 88, in _run_code\n",
      "  File \"c:\\Users\\lucas.souza\\AppData\\Local\\anaconda3\\Lib\\site-packages\\ipykernel_launcher.py\", line 17, in <module>\n",
      "    app.launch_new_instance()\n",
      "  File \"c:\\Users\\lucas.souza\\AppData\\Local\\anaconda3\\Lib\\site-packages\\traitlets\\config\\application.py\", line 992, in launch_instance\n",
      "    app.start()\n",
      "  File \"c:\\Users\\lucas.souza\\AppData\\Local\\anaconda3\\Lib\\site-packages\\ipykernel\\kernelapp.py\", line 736, in start\n",
      "    self.io_loop.start()\n",
      "  File \"c:\\Users\\lucas.souza\\AppData\\Local\\anaconda3\\Lib\\site-packages\\tornado\\platform\\asyncio.py\", line 205, in start\n",
      "    self.asyncio_loop.run_forever()\n",
      "  File \"c:\\Users\\lucas.souza\\AppData\\Local\\anaconda3\\Lib\\asyncio\\base_events.py\", line 607, in run_forever\n",
      "    self._run_once()\n",
      "  File \"c:\\Users\\lucas.souza\\AppData\\Local\\anaconda3\\Lib\\asyncio\\base_events.py\", line 1922, in _run_once\n",
      "    handle._run()\n",
      "  File \"c:\\Users\\lucas.souza\\AppData\\Local\\anaconda3\\Lib\\asyncio\\events.py\", line 80, in _run\n",
      "    self._context.run(self._callback, *self._args)\n",
      "  File \"c:\\Users\\lucas.souza\\AppData\\Local\\anaconda3\\Lib\\site-packages\\ipykernel\\kernelbase.py\", line 516, in dispatch_queue\n",
      "    await self.process_one()\n",
      "  File \"c:\\Users\\lucas.souza\\AppData\\Local\\anaconda3\\Lib\\site-packages\\ipykernel\\kernelbase.py\", line 505, in process_one\n",
      "    await dispatch(*args)\n",
      "  File \"c:\\Users\\lucas.souza\\AppData\\Local\\anaconda3\\Lib\\site-packages\\ipykernel\\kernelbase.py\", line 412, in dispatch_shell\n",
      "    await result\n",
      "  File \"c:\\Users\\lucas.souza\\AppData\\Local\\anaconda3\\Lib\\site-packages\\ipykernel\\kernelbase.py\", line 740, in execute_request\n",
      "    reply_content = await reply_content\n",
      "  File \"c:\\Users\\lucas.souza\\AppData\\Local\\anaconda3\\Lib\\site-packages\\ipykernel\\ipkernel.py\", line 422, in do_execute\n",
      "    res = shell.run_cell(\n",
      "  File \"c:\\Users\\lucas.souza\\AppData\\Local\\anaconda3\\Lib\\site-packages\\ipykernel\\zmqshell.py\", line 546, in run_cell\n",
      "    return super().run_cell(*args, **kwargs)\n",
      "  File \"c:\\Users\\lucas.souza\\AppData\\Local\\anaconda3\\Lib\\site-packages\\IPython\\core\\interactiveshell.py\", line 3024, in run_cell\n",
      "    result = self._run_cell(\n",
      "  File \"c:\\Users\\lucas.souza\\AppData\\Local\\anaconda3\\Lib\\site-packages\\IPython\\core\\interactiveshell.py\", line 3079, in _run_cell\n",
      "    result = runner(coro)\n",
      "  File \"c:\\Users\\lucas.souza\\AppData\\Local\\anaconda3\\Lib\\site-packages\\IPython\\core\\async_helpers.py\", line 129, in _pseudo_sync_runner\n",
      "    coro.send(None)\n",
      "  File \"c:\\Users\\lucas.souza\\AppData\\Local\\anaconda3\\Lib\\site-packages\\IPython\\core\\interactiveshell.py\", line 3284, in run_cell_async\n",
      "    has_raised = await self.run_ast_nodes(code_ast.body, cell_name,\n",
      "  File \"c:\\Users\\lucas.souza\\AppData\\Local\\anaconda3\\Lib\\site-packages\\IPython\\core\\interactiveshell.py\", line 3466, in run_ast_nodes\n",
      "    if await self.run_code(code, result, async_=asy):\n",
      "  File \"c:\\Users\\lucas.souza\\AppData\\Local\\anaconda3\\Lib\\site-packages\\IPython\\core\\interactiveshell.py\", line 3526, in run_code\n",
      "    exec(code_obj, self.user_global_ns, self.user_ns)\n",
      "  File \"C:\\Users\\lucas.souza\\AppData\\Local\\Temp\\ipykernel_15448\\4205328392.py\", line 4, in <module>\n",
      "    import seaborn as sns\n",
      "  File \"c:\\Users\\lucas.souza\\AppData\\Local\\anaconda3\\Lib\\site-packages\\seaborn\\__init__.py\", line 2, in <module>\n",
      "    from .rcmod import *  # noqa: F401,F403\n",
      "  File \"c:\\Users\\lucas.souza\\AppData\\Local\\anaconda3\\Lib\\site-packages\\seaborn\\rcmod.py\", line 5, in <module>\n",
      "    from . import palettes\n",
      "  File \"c:\\Users\\lucas.souza\\AppData\\Local\\anaconda3\\Lib\\site-packages\\seaborn\\palettes.py\", line 9, in <module>\n",
      "    from .utils import desaturate, get_color_cycle\n",
      "  File \"c:\\Users\\lucas.souza\\AppData\\Local\\anaconda3\\Lib\\site-packages\\seaborn\\utils.py\", line 11, in <module>\n",
      "    import pandas as pd\n",
      "  File \"c:\\Users\\lucas.souza\\AppData\\Local\\anaconda3\\Lib\\site-packages\\pandas\\__init__.py\", line 62, in <module>\n",
      "    from pandas.core.api import (\n",
      "  File \"c:\\Users\\lucas.souza\\AppData\\Local\\anaconda3\\Lib\\site-packages\\pandas\\core\\api.py\", line 28, in <module>\n",
      "    from pandas.core.arrays import Categorical\n",
      "  File \"c:\\Users\\lucas.souza\\AppData\\Local\\anaconda3\\Lib\\site-packages\\pandas\\core\\arrays\\__init__.py\", line 1, in <module>\n",
      "    from pandas.core.arrays.arrow import ArrowExtensionArray\n",
      "  File \"c:\\Users\\lucas.souza\\AppData\\Local\\anaconda3\\Lib\\site-packages\\pandas\\core\\arrays\\arrow\\__init__.py\", line 5, in <module>\n",
      "    from pandas.core.arrays.arrow.array import ArrowExtensionArray\n",
      "  File \"c:\\Users\\lucas.souza\\AppData\\Local\\anaconda3\\Lib\\site-packages\\pandas\\core\\arrays\\arrow\\array.py\", line 50, in <module>\n",
      "    from pandas.core import (\n",
      "  File \"c:\\Users\\lucas.souza\\AppData\\Local\\anaconda3\\Lib\\site-packages\\pandas\\core\\ops\\__init__.py\", line 8, in <module>\n",
      "    from pandas.core.ops.array_ops import (\n",
      "  File \"c:\\Users\\lucas.souza\\AppData\\Local\\anaconda3\\Lib\\site-packages\\pandas\\core\\ops\\array_ops.py\", line 56, in <module>\n",
      "    from pandas.core.computation import expressions\n",
      "  File \"c:\\Users\\lucas.souza\\AppData\\Local\\anaconda3\\Lib\\site-packages\\pandas\\core\\computation\\expressions.py\", line 21, in <module>\n",
      "    from pandas.core.computation.check import NUMEXPR_INSTALLED\n",
      "  File \"c:\\Users\\lucas.souza\\AppData\\Local\\anaconda3\\Lib\\site-packages\\pandas\\core\\computation\\check.py\", line 5, in <module>\n",
      "    ne = import_optional_dependency(\"numexpr\", errors=\"warn\")\n",
      "  File \"c:\\Users\\lucas.souza\\AppData\\Local\\anaconda3\\Lib\\site-packages\\pandas\\compat\\_optional.py\", line 135, in import_optional_dependency\n",
      "    module = importlib.import_module(name)\n",
      "  File \"c:\\Users\\lucas.souza\\AppData\\Local\\anaconda3\\Lib\\importlib\\__init__.py\", line 126, in import_module\n",
      "    return _bootstrap._gcd_import(name[level:], package, level)\n",
      "  File \"c:\\Users\\lucas.souza\\AppData\\Local\\anaconda3\\Lib\\site-packages\\numexpr\\__init__.py\", line 24, in <module>\n",
      "    from numexpr.interpreter import MAX_THREADS, use_vml, __BLOCK_SIZE1__\n"
     ]
    },
    {
     "ename": "AttributeError",
     "evalue": "_ARRAY_API not found",
     "output_type": "error",
     "traceback": [
      "\u001b[1;31m---------------------------------------------------------------------------\u001b[0m",
      "\u001b[1;31mAttributeError\u001b[0m                            Traceback (most recent call last)",
      "\u001b[1;31mAttributeError\u001b[0m: _ARRAY_API not found"
     ]
    }
   ],
   "source": [
    "import numpy as np\n",
    "from scipy.stats import norm\n",
    "from scipy import stats\n",
    "import seaborn as sns\n",
    "import math"
   ]
  },
  {
   "cell_type": "code",
   "execution_count": 2,
   "metadata": {},
   "outputs": [],
   "source": [
    "# base de dados baseada em alturo de pessoas\n",
    "dados = np.array([126. , 129.5, 133. , 133. , 136.5, 136.5, 140. , 140. , 140. ,\n",
    "                  140. , 143.5, 143.5, 143.5, 143.5, 143.5, 143.5, 147. , 147. ,\n",
    "                  147. , 147. , 147. , 147. , 147. , 150.5, 150.5, 150.5, 150.5,\n",
    "                  150.5, 150.5, 150.5, 150.5, 154. , 154. , 154. , 154. , 154. ,\n",
    "                  154. , 154. , 154. , 154. , 157.5, 157.5, 157.5, 157.5, 157.5,\n",
    "                  157.5, 157.5, 157.5, 157.5, 157.5, 161. , 161. , 161. , 161. ,\n",
    "                  161. , 161. , 161. , 161. , 161. , 161. , 164.5, 164.5, 164.5,\n",
    "                  164.5, 164.5, 164.5, 164.5, 164.5, 164.5, 168. , 168. , 168. ,\n",
    "                  168. , 168. , 168. , 168. , 168. , 171.5, 171.5, 171.5, 171.5,\n",
    "                  171.5, 171.5, 171.5, 175. , 175. , 175. , 175. , 175. , 175. ,\n",
    "                  178.5, 178.5, 178.5, 178.5, 182. , 182. , 185.5, 185.5, 189., 192.5])"
   ]
  },
  {
   "cell_type": "code",
   "execution_count": 3,
   "metadata": {},
   "outputs": [
    {
     "data": {
      "text/plain": [
       "100"
      ]
     },
     "execution_count": 3,
     "metadata": {},
     "output_type": "execute_result"
    }
   ],
   "source": [
    "n = len(dados)\n",
    "n"
   ]
  },
  {
   "cell_type": "code",
   "execution_count": 4,
   "metadata": {},
   "outputs": [
    {
     "data": {
      "text/plain": [
       "np.float64(159.25)"
      ]
     },
     "execution_count": 4,
     "metadata": {},
     "output_type": "execute_result"
    }
   ],
   "source": [
    "media = np.mean(dados)\n",
    "media"
   ]
  },
  {
   "cell_type": "code",
   "execution_count": 5,
   "metadata": {},
   "outputs": [
    {
     "data": {
      "text/plain": [
       "np.float64(13.65)"
      ]
     },
     "execution_count": 5,
     "metadata": {},
     "output_type": "execute_result"
    }
   ],
   "source": [
    "desvio_padrao = np.std(dados)\n",
    "desvio_padrao"
   ]
  },
  {
   "cell_type": "markdown",
   "metadata": {},
   "source": [
    "#### Cálculo manual do Intervalo de Confiança"
   ]
  },
  {
   "cell_type": "code",
   "execution_count": 6,
   "metadata": {},
   "outputs": [
    {
     "data": {
      "text/plain": [
       "(0.025, 0.975)"
      ]
     },
     "execution_count": 6,
     "metadata": {},
     "output_type": "execute_result"
    }
   ],
   "source": [
    "alpha = 0.05 / 2    # alpha referente a 95%, dividindo alpha por 2 para o teste bicaudal\n",
    "alpha, 1 - alpha   # valor crítico para o teste bicaudal"
   ]
  },
  {
   "cell_type": "code",
   "execution_count": 7,
   "metadata": {},
   "outputs": [
    {
     "data": {
      "text/plain": [
       "np.float64(1.959963984540054)"
      ]
     },
     "execution_count": 7,
     "metadata": {},
     "output_type": "execute_result"
    }
   ],
   "source": [
    "z = norm.ppf(1 - alpha) # valor crítico z para o teste bicaudal\n",
    "z"
   ]
  },
  {
   "cell_type": "code",
   "execution_count": 8,
   "metadata": {},
   "outputs": [
    {
     "data": {
      "text/plain": [
       "np.float64(156.57464916110283)"
      ]
     },
     "execution_count": 8,
     "metadata": {},
     "output_type": "execute_result"
    }
   ],
   "source": [
    "x_inferior = media - z * (desvio_padrao / math.sqrt(n))\n",
    "x_inferior"
   ]
  },
  {
   "cell_type": "code",
   "execution_count": 9,
   "metadata": {},
   "outputs": [
    {
     "data": {
      "text/plain": [
       "np.float64(161.92535083889717)"
      ]
     },
     "execution_count": 9,
     "metadata": {},
     "output_type": "execute_result"
    }
   ],
   "source": [
    "x_superior = media + z * (desvio_padrao / math.sqrt(n))\n",
    "x_superior"
   ]
  },
  {
   "cell_type": "code",
   "execution_count": 10,
   "metadata": {},
   "outputs": [
    {
     "data": {
      "text/plain": [
       "np.float64(2.675350838897174)"
      ]
     },
     "execution_count": 10,
     "metadata": {},
     "output_type": "execute_result"
    }
   ],
   "source": [
    "margem_erro = abs(media - x_superior)\n",
    "margem_erro"
   ]
  },
  {
   "cell_type": "code",
   "execution_count": 11,
   "metadata": {},
   "outputs": [
    {
     "name": "stderr",
     "output_type": "stream",
     "text": [
      "c:\\Users\\lucas.souza\\AppData\\Local\\anaconda3\\Lib\\site-packages\\seaborn\\_oldcore.py:1119: FutureWarning: use_inf_as_na option is deprecated and will be removed in a future version. Convert inf values to NaN before operating instead.\n",
      "  with pd.option_context('mode.use_inf_as_na', True):\n"
     ]
    },
    {
     "data": {
      "image/png": "[encoded data removed]",
      "text/plain": [
       "<Figure size 640x480 with 1 Axes>"
      ]
     },
     "metadata": {},
     "output_type": "display_data"
    }
   ],
   "source": [
    "import seaborn as sns\n",
    "import matplotlib.pyplot as plt\n",
    "\n",
    "sns.histplot(dados, kde=True)\n",
    "plt.show()"
   ]
  },
  {
   "cell_type": "markdown",
   "metadata": {},
   "source": [
    "#### Cálculo do intervalo de confiança com Scipy"
   ]
  },
  {
   "cell_type": "code",
   "execution_count": 12,
   "metadata": {},
   "outputs": [
    {
     "data": {
      "text/plain": [
       "np.float64(1.3718766178288244)"
      ]
     },
     "execution_count": 12,
     "metadata": {},
     "output_type": "execute_result"
    }
   ],
   "source": [
    "stats.sem(dados)"
   ]
  },
  {
   "cell_type": "code",
   "execution_count": 13,
   "metadata": {},
   "outputs": [
    {
     "data": {
      "text/plain": [
       "np.float64(1.3718766178288246)"
      ]
     },
     "execution_count": 13,
     "metadata": {},
     "output_type": "execute_result"
    }
   ],
   "source": [
    "desvio_padrao / math.sqrt(n - 1)"
   ]
  },
  {
   "cell_type": "code",
   "execution_count": 14,
   "metadata": {},
   "outputs": [
    {
     "data": {
      "text/plain": [
       "(np.float64(156.5611712378229), np.float64(161.9388287621771))"
      ]
     },
     "execution_count": 14,
     "metadata": {},
     "output_type": "execute_result"
    }
   ],
   "source": [
    "intervalos = norm.interval(0.95, media, stats.sem(dados))\n",
    "intervalos"
   ]
  },
  {
   "cell_type": "code",
   "execution_count": 15,
   "metadata": {},
   "outputs": [
    {
     "data": {
      "text/plain": [
       "np.float64(2.68882876217711)"
      ]
     },
     "execution_count": 15,
     "metadata": {},
     "output_type": "execute_result"
    }
   ],
   "source": [
    "margem_erro = media - intervalos[0]\n",
    "margem_erro"
   ]
  },
  {
   "cell_type": "markdown",
   "metadata": {},
   "source": [
    "#### Diferentes níveis de confiança"
   ]
  },
  {
   "cell_type": "code",
   "execution_count": 18,
   "metadata": {},
   "outputs": [
    {
     "name": "stdout",
     "output_type": "stream",
     "text": [
      "Intervalo de confiança 0.8: (np.float64(157.49186937268743), np.float64(161.00813062731257)), Margem de erro: 1.7581306273125676\n",
      "Intervalo de confiança 0.85: (np.float64(157.2751404343908), np.float64(161.2248595656092)), Margem de erro: 1.9748595656091936\n",
      "Intervalo de confiança 0.9: (np.float64(156.99346376943433), np.float64(161.50653623056567)), Margem de erro: 2.256536230565672\n",
      "Intervalo de confiança 0.95: (np.float64(156.5611712378229), np.float64(161.9388287621771)), Margem de erro: 2.68882876217711\n",
      "Intervalo de confiança 0.99: (np.float64(155.71628000694295), np.float64(162.78371999305705)), Margem de erro: 3.5337199930570478\n"
     ]
    }
   ],
   "source": [
    "for nivel_conf in [0.8, 0.85, 0.9, 0.95, 0.99]:\n",
    "    intervalo = norm.interval(nivel_conf, media, stats.sem(dados))\n",
    "    margem_erro = media - intervalo[0]\n",
    "    print(f\"Intervalo de confiança {nivel_conf}: {intervalo}, Margem de erro: {margem_erro}\") "
   ]
  },
  {
   "cell_type": "markdown",
   "metadata": {},
   "source": [
    "#### Exercicio"
   ]
  },
  {
   "cell_type": "code",
   "execution_count": 19,
   "metadata": {},
   "outputs": [],
   "source": [
    "dados_salario = np.array([82.1191, 72.8014, 79.1266, 71.3552, 59.192 , 79.1952, 56.518 ,\n",
    "                          70.3752, 73.5364, 61.0407, 64.3902, 66.4076, 63.5215, 71.9936,\n",
    "                          60.1489, 78.5932, 76.0459, 67.7726, 64.6149, 80.1948, 76.7998,\n",
    "                          76.1831, 80.7065, 62.4953, 57.204 , 62.5408, 80.0982, 63.287 ,\n",
    "                          66.5826, 79.3674])"
   ]
  },
  {
   "cell_type": "code",
   "execution_count": 20,
   "metadata": {},
   "outputs": [
    {
     "data": {
      "text/plain": [
       "np.float64(70.14025666666666)"
      ]
     },
     "execution_count": 20,
     "metadata": {},
     "output_type": "execute_result"
    }
   ],
   "source": [
    "media = dados_salario.mean()\n",
    "media"
   ]
  },
  {
   "cell_type": "code",
   "execution_count": 21,
   "metadata": {},
   "outputs": [
    {
     "data": {
      "text/plain": [
       "(np.float64(67.26506308375339), np.float64(73.01545024957993))"
      ]
     },
     "execution_count": 21,
     "metadata": {},
     "output_type": "execute_result"
    }
   ],
   "source": [
    "intervalos = norm.interval(0.95, media, stats.sem(dados_salario))\n",
    "intervalos"
   ]
  },
  {
   "cell_type": "markdown",
   "metadata": {},
   "source": [
    "Temos 95% de confiança de que a média salarial das pessoas está\n",
    "no intervalo entre 67.26 e 73.01"
   ]
  },
  {
   "cell_type": "markdown",
   "metadata": {},
   "source": [
    "### Intervalos de confiança com Distribuição T Student"
   ]
  },
  {
   "cell_type": "markdown",
   "metadata": {},
   "source": [
    "Lembrando que a T Stdent é adequada para amostras pequenas (n < 30) ou quando a variância da população é desconhecida."
   ]
  },
  {
   "cell_type": "markdown",
   "metadata": {},
   "source": [
    "\n",
    "\n",
    "#### IC para a Média (σ desconhecido, Distribuição T Student)\n",
    "\n",
    "$$\n",
    "IC = \\bar{x} \\pm t_{\\alpha/2, \\, n-1} \\cdot \\frac{s}{\\sqrt{n}}\n",
    "$$\n",
    "\n",
    "Onde:\n",
    "- $s$ = desvio padrão amostral  \n",
    "- $t_{\\alpha/2, \\, n-1}$ = valor crítico da distribuição T com $n-1$ graus de liberdade  \n",
    "- $n$ = tamanho da amostra\n"
   ]
  },
  {
   "cell_type": "code",
   "execution_count": 22,
   "metadata": {},
   "outputs": [
    {
     "data": {
      "text/plain": [
       "<matplotlib.image.AxesImage at 0x28ed9afef50>"
      ]
     },
     "execution_count": 22,
     "metadata": {},
     "output_type": "execute_result"
    },
    {
     "data": {
      "image/png": "[encoded data removed]",
      "text/plain": [
       "<Figure size 1000x600 with 1 Axes>"
      ]
     },
     "metadata": {},
     "output_type": "display_data"
    }
   ],
   "source": [
    "# incuir figura png do diretorio\n",
    "import matplotlib.image as mpimg\n",
    "img = mpimg.imread('t-student.png')\n",
    "plt.figure(figsize=(10, 6))\n",
    "plt.imshow(img)"
   ]
  },
  {
   "cell_type": "code",
   "execution_count": 23,
   "metadata": {},
   "outputs": [],
   "source": [
    "dados = np.array([149. , 160., 147., 189., 175., 168., 156., 160., 152.])\n"
   ]
  },
  {
   "cell_type": "code",
   "execution_count": 24,
   "metadata": {},
   "outputs": [
    {
     "name": "stdout",
     "output_type": "stream",
     "text": [
      "n: 9\n",
      "Média: 161.77777777777777\n",
      "Desvio Padrão: 12.786953227391823\n"
     ]
    }
   ],
   "source": [
    "n = len(dados)\n",
    "print(f\"n: {n}\")\n",
    "\n",
    "media = np.mean(dados)\n",
    "print(f\"Média: {media}\")\n",
    "\n",
    "desvio_padrao = np.std(dados)\n",
    "print(f\"Desvio Padrão: {desvio_padrao}\")"
   ]
  },
  {
   "cell_type": "code",
   "execution_count": 25,
   "metadata": {},
   "outputs": [],
   "source": [
    "from scipy.stats import t"
   ]
  },
  {
   "cell_type": "code",
   "execution_count": 26,
   "metadata": {},
   "outputs": [
    {
     "name": "stdout",
     "output_type": "stream",
     "text": [
      "Intervalos de confiança: (np.float64(151.94885543810184), np.float64(171.6067001174537))\n",
      "Margem de erro: 9.828922339675927\n"
     ]
    }
   ],
   "source": [
    "# calcular o valor crítico t para um nível de confiança de 95% e n-1 graus de liberdade\n",
    "alpha = 0.05 / 2  # alpha para teste bicaudal\n",
    "intervalos = t.interval(0.95, n - 1, media, stats.sem(dados, ddof = 0))\n",
    "print(f\"Intervalos de confiança: {intervalos}\")\n",
    "\n",
    "margem_erro = media - intervalos[0]\n",
    "print(f\"Margem de erro: {margem_erro}\")"
   ]
  },
  {
   "cell_type": "code",
   "execution_count": null,
   "metadata": {},
   "outputs": [],
   "source": []
  },
  {
   "cell_type": "markdown",
   "metadata": {},
   "source": [
    "## Intervalos de Confiança e Classificação"
   ]
  },
  {
   "cell_type": "markdown",
   "metadata": {},
   "source": [
    "Predição de pagamento de empréstimo. \n",
    "\n",
    "O código abaixo realiza um experimento de comparação entre três algoritmos de classificação — **Naive Bayes**, **Regressão Logística** e **Random Forest** — usando validação cruzada repetida."
   ]
  },
  {
   "cell_type": "code",
   "execution_count": 27,
   "metadata": {},
   "outputs": [],
   "source": [
    "import pandas as pd\n",
    "from sklearn.model_selection import train_test_split\n",
    "from sklearn.naive_bayes import GaussianNB\n",
    "from sklearn.linear_model import LogisticRegression\n",
    "from sklearn.ensemble import RandomForestClassifier\n",
    "from sklearn.metrics import accuracy_score\n",
    "from sklearn.model_selection import cross_val_score, KFold\n",
    "dataset = pd.read_csv('data/credit_data.csv')\n",
    "dataset.dropna(inplace=True)\n",
    "dataset.head()\n",
    "\n",
    "X = dataset.iloc[:, 1:4].values\n",
    "y = dataset.iloc[:, 4].values\n",
    "\n",
    "resultados_naive_bayes_cv = []\n",
    "resultados_naive_bayes_cv_300 = []\n",
    "resultados_logistica_cv = []\n",
    "resultados_logistica_cv_300 = []\n",
    "resultados_forest_cv = []\n",
    "resultados_forest_cv_300 = []\n",
    "for i in range(30):\n",
    "  kfold = KFold(n_splits = 10, shuffle = True, random_state = i)\n",
    "  \n",
    "  naive_bayes = GaussianNB()\n",
    "  scores = cross_val_score(naive_bayes, X, y, cv = kfold)\n",
    "  resultados_naive_bayes_cv_300.append(scores)\n",
    "  resultados_naive_bayes_cv.append(scores.mean())\n",
    "\n",
    "  logistica = LogisticRegression()\n",
    "  scores = cross_val_score(logistica, X, y, cv = kfold)\n",
    "  resultados_logistica_cv_300.append(scores)\n",
    "  resultados_logistica_cv.append(scores.mean())\n",
    "  \n",
    "  random_forest = RandomForestClassifier()\n",
    "  scores = cross_val_score(random_forest, X, y, cv = kfold)\n",
    "  resultados_forest_cv_300.append(scores)\n",
    "  resultados_forest_cv.append(scores.mean())\n",
    "\n",
    "resultados_naive_bayes_cv = np.array(resultados_naive_bayes_cv)\n",
    "resultados_naive_bayes_cv_300 = np.array(np.asarray(resultados_naive_bayes_cv_300).reshape(-1))\n",
    "resultados_logistica_cv = np.array(resultados_logistica_cv)\n",
    "resultados_logistica_cv_300 = np.array(np.asarray(resultados_logistica_cv_300).reshape(-1))\n",
    "resultados_forest_cv = np.array(resultados_forest_cv)\n",
    "resultados_forest_cv_300 = np.array(np.asarray(resultados_forest_cv_300).reshape(-1))"
   ]
  },
  {
   "cell_type": "code",
   "execution_count": 31,
   "metadata": {},
   "outputs": [
    {
     "name": "stderr",
     "output_type": "stream",
     "text": [
      "c:\\Users\\lucas.souza\\AppData\\Local\\anaconda3\\Lib\\site-packages\\seaborn\\_oldcore.py:1119: FutureWarning: use_inf_as_na option is deprecated and will be removed in a future version. Convert inf values to NaN before operating instead.\n",
      "  with pd.option_context('mode.use_inf_as_na', True):\n",
      "c:\\Users\\lucas.souza\\AppData\\Local\\anaconda3\\Lib\\site-packages\\seaborn\\_oldcore.py:1119: FutureWarning: use_inf_as_na option is deprecated and will be removed in a future version. Convert inf values to NaN before operating instead.\n",
      "  with pd.option_context('mode.use_inf_as_na', True):\n",
      "c:\\Users\\lucas.souza\\AppData\\Local\\anaconda3\\Lib\\site-packages\\seaborn\\_oldcore.py:1119: FutureWarning: use_inf_as_na option is deprecated and will be removed in a future version. Convert inf values to NaN before operating instead.\n",
      "  with pd.option_context('mode.use_inf_as_na', True):\n"
     ]
    },
    {
     "data": {
      "image/png": "[encoded data removed]",
      "text/plain": [
       "<Figure size 600x300 with 1 Axes>"
      ]
     },
     "metadata": {},
     "output_type": "display_data"
    },
    {
     "data": {
      "image/png": "[encoded data removed]",
      "text/plain": [
       "<Figure size 600x300 with 1 Axes>"
      ]
     },
     "metadata": {},
     "output_type": "display_data"
    },
    {
     "data": {
      "image/png": "[encoded data removed]",
      "text/plain": [
       "<Figure size 600x300 with 1 Axes>"
      ]
     },
     "metadata": {},
     "output_type": "display_data"
    }
   ],
   "source": [
    "# plotar as distribuicoes\n",
    "labels = ['Naive Bayes', 'Logística', 'Random Forest']\n",
    "dists = [resultados_naive_bayes_cv, resultados_logistica_cv, resultados_forest_cv]\n",
    "for dist, label in zip(dists, labels):\n",
    "    plt.figure(figsize=(6, 3))\n",
    "    sns.histplot(dist, kde=True, label=label)\n",
    "    plt.title(f'Distribuição de Acurácia - {label}')\n",
    "\n",
    "\n"
   ]
  },
  {
   "cell_type": "code",
   "execution_count": 32,
   "metadata": {},
   "outputs": [
    {
     "data": {
      "text/plain": [
       "(np.float64(0.9249359296482411),\n",
       " np.float64(0.9448667504187604),\n",
       " np.float64(0.9869304857621441))"
      ]
     },
     "execution_count": 32,
     "metadata": {},
     "output_type": "execute_result"
    }
   ],
   "source": [
    "resultados_naive_bayes_cv.mean(), resultados_logistica_cv.mean(), resultados_forest_cv.mean()"
   ]
  },
  {
   "cell_type": "code",
   "execution_count": 34,
   "metadata": {},
   "outputs": [
    {
     "data": {
      "text/plain": [
       "(np.float64(0.08641071566366061),\n",
       " np.float64(0.10802610833013937),\n",
       " np.float64(0.14125036072756086))"
      ]
     },
     "execution_count": 34,
     "metadata": {},
     "output_type": "execute_result"
    }
   ],
   "source": [
    "stats.variation(resultados_naive_bayes_cv) * 100, stats.variation(resultados_logistica_cv) * 100, stats.variation(resultados_forest_cv) * 100"
   ]
  },
  {
   "cell_type": "code",
   "execution_count": 35,
   "metadata": {},
   "outputs": [
    {
     "name": "stderr",
     "output_type": "stream",
     "text": [
      "c:\\Users\\lucas.souza\\AppData\\Local\\anaconda3\\Lib\\site-packages\\seaborn\\_oldcore.py:1119: FutureWarning: use_inf_as_na option is deprecated and will be removed in a future version. Convert inf values to NaN before operating instead.\n",
      "  with pd.option_context('mode.use_inf_as_na', True):\n"
     ]
    },
    {
     "data": {
      "image/png": "[encoded data removed]",
      "text/plain": [
       "<Figure size 600x300 with 1 Axes>"
      ]
     },
     "metadata": {},
     "output_type": "display_data"
    },
    {
     "name": "stderr",
     "output_type": "stream",
     "text": [
      "c:\\Users\\lucas.souza\\AppData\\Local\\anaconda3\\Lib\\site-packages\\seaborn\\_oldcore.py:1119: FutureWarning: use_inf_as_na option is deprecated and will be removed in a future version. Convert inf values to NaN before operating instead.\n",
      "  with pd.option_context('mode.use_inf_as_na', True):\n"
     ]
    },
    {
     "data": {
      "image/png": "[encoded data removed]",
      "text/plain": [
       "<Figure size 600x300 with 1 Axes>"
      ]
     },
     "metadata": {},
     "output_type": "display_data"
    },
    {
     "name": "stderr",
     "output_type": "stream",
     "text": [
      "c:\\Users\\lucas.souza\\AppData\\Local\\anaconda3\\Lib\\site-packages\\seaborn\\_oldcore.py:1119: FutureWarning: use_inf_as_na option is deprecated and will be removed in a future version. Convert inf values to NaN before operating instead.\n",
      "  with pd.option_context('mode.use_inf_as_na', True):\n"
     ]
    },
    {
     "data": {
      "image/png": "[encoded data removed]",
      "text/plain": [
       "<Figure size 600x300 with 1 Axes>"
      ]
     },
     "metadata": {},
     "output_type": "display_data"
    }
   ],
   "source": [
    "# plotar as distribuições 300\n",
    "for dist, label in zip([resultados_naive_bayes_cv_300, resultados_logistica_cv_300, resultados_forest_cv_300], labels):\n",
    "    plt.figure(figsize=(6, 3))\n",
    "    sns.histplot(dist, kde=True, label=label)\n",
    "    plt.title(f'Distribuição de Acurácia - {label} (300 iterações)')\n",
    "    plt.legend()\n",
    "    plt.show()"
   ]
  },
  {
   "cell_type": "markdown",
   "metadata": {},
   "source": [
    "### Intervalos de confiança para distribuições normal e T"
   ]
  },
  {
   "cell_type": "code",
   "execution_count": 38,
   "metadata": {},
   "outputs": [],
   "source": [
    "from scipy.stats import t\n",
    "from scipy.stats import norm"
   ]
  },
  {
   "cell_type": "markdown",
   "metadata": {},
   "source": [
    "#### Neïve Bayes"
   ]
  },
  {
   "cell_type": "code",
   "execution_count": 41,
   "metadata": {},
   "outputs": [
    {
     "data": {
      "text/plain": [
       "np.float64(0.0002984425233454324)"
      ]
     },
     "execution_count": 41,
     "metadata": {},
     "output_type": "execute_result"
    }
   ],
   "source": [
    "intervalos_naive_bayes_t = t.interval(0.95, len(resultados_naive_bayes_cv) - 1, \n",
    "                                    resultados_naive_bayes_cv.mean(), \n",
    "                                    stats.sem(resultados_naive_bayes_cv, ddof = 0))\n",
    "\n",
    "abs(resultados_naive_bayes_cv.mean() - intervalos_naive_bayes_t[1])"
   ]
  },
  {
   "cell_type": "code",
   "execution_count": 42,
   "metadata": {},
   "outputs": [
    {
     "data": {
      "text/plain": [
       "np.float64(0.0020025402837702266)"
      ]
     },
     "execution_count": 42,
     "metadata": {},
     "output_type": "execute_result"
    }
   ],
   "source": [
    "intervalos_naive_bayes_n = norm.interval(0.95, resultados_naive_bayes_cv_300.mean(), \n",
    "                                         stats.sem(resultados_naive_bayes_cv_300))\n",
    "abs(resultados_naive_bayes_cv_300.mean() - intervalos_naive_bayes_n[1])"
   ]
  },
  {
   "cell_type": "markdown",
   "metadata": {},
   "source": [
    "#### Regressão Logística"
   ]
  },
  {
   "cell_type": "code",
   "execution_count": 46,
   "metadata": {},
   "outputs": [
    {
     "data": {
      "text/plain": [
       "np.float64(0.00038113668162764736)"
      ]
     },
     "execution_count": 46,
     "metadata": {},
     "output_type": "execute_result"
    }
   ],
   "source": [
    "intervalos_logistica_t = t.interval(0.95, len(resultados_logistica_cv) - 1, \n",
    "                                    resultados_logistica_cv.mean(), \n",
    "                                    stats.sem(resultados_logistica_cv, ddof = 0))\n",
    "abs(resultados_logistica_cv.mean() - intervalos_logistica_t[1])"
   ]
  },
  {
   "cell_type": "code",
   "execution_count": 47,
   "metadata": {},
   "outputs": [
    {
     "data": {
      "text/plain": [
       "np.float64(0.0017353547478814457)"
      ]
     },
     "execution_count": 47,
     "metadata": {},
     "output_type": "execute_result"
    }
   ],
   "source": [
    "intervalos_logistica_n = norm.interval(0.95, resultados_logistica_cv_300.mean(), \n",
    "                                       stats.sem(resultados_logistica_cv_300))\n",
    "abs(resultados_logistica_cv_300.mean() - intervalos_logistica_n[1])"
   ]
  },
  {
   "cell_type": "markdown",
   "metadata": {},
   "source": [
    "#### Random Forest"
   ]
  },
  {
   "cell_type": "code",
   "execution_count": 50,
   "metadata": {},
   "outputs": [
    {
     "data": {
      "text/plain": [
       "np.float64(0.0005205441630358187)"
      ]
     },
     "execution_count": 50,
     "metadata": {},
     "output_type": "execute_result"
    }
   ],
   "source": [
    "intervalos_forest_t = t.interval(0.95, len(resultados_forest_cv) - 1, \n",
    "                                 resultados_forest_cv.mean(),   \n",
    "                                    stats.sem(resultados_forest_cv, ddof = 0))\n",
    "abs(resultados_forest_cv.mean() - intervalos_forest_t[1])"
   ]
  },
  {
   "cell_type": "code",
   "execution_count": 51,
   "metadata": {},
   "outputs": [
    {
     "data": {
      "text/plain": [
       "np.float64(0.0008554464954150243)"
      ]
     },
     "execution_count": 51,
     "metadata": {},
     "output_type": "execute_result"
    }
   ],
   "source": [
    "inervalos_forest_n = norm.interval(0.95, resultados_forest_cv_300.mean(), \n",
    "                                   stats.sem(resultados_forest_cv_300)) \n",
    "abs(resultados_forest_cv_300.mean() - inervalos_forest_n[1])"
   ]
  },
  {
   "cell_type": "markdown",
   "metadata": {},
   "source": [
    "Temos 95% de confiança de que a média de acertos do Random Forest está\n",
    "no intervalo entre 98,63% e 98,74% - 98,59% e 98,77%"
   ]
  },
  {
   "cell_type": "markdown",
   "metadata": {},
   "source": [
    "## Teste de Hipótese"
   ]
  },
  {
   "cell_type": "markdown",
   "metadata": {},
   "source": [
    "Vimos que eles fornecem uma estimativa de onde, com determinada confiança (por exemplo, 95%), está o parâmetro real da população (como uma média, proporção, ou diferença entre grupos). Esses intervalos ajudam a entender a precisão das estimativas e servem de base para decisões formais em testes de hipótese.\n",
    "\n",
    "Por exemplo, se ao comparar duas versões de uma interface de usuário, o intervalo de confiança da diferença entre as taxas de conversão não contém zero, temos uma indicação de que existe uma diferença estatisticamente significativa entre as versões — o que pode motivar uma ação prática.\n",
    "\n",
    "Nível de Significância, Valor p e Tipos de Erro\n",
    "\n",
    "Nos testes de hipóteses, buscamos avaliar a probabilidade de rejeitar a hipótese nula com base nos dados amostrais. Essa probabilidade está diretamente relacionada ao valor p (p-valor), que indica a força da evidência contra a hipótese nula.\n",
    "\n",
    "Quanto menor o valor p, mais forte é a evidência contra a hipótese nula.\n",
    "\n",
    "Um valor p menor que o nível de significância α (por exemplo, 0,05) indica que rejeitamos a hipótese nula.\n",
    "\n",
    "Os níveis de significância são interpretados da seguinte forma:\n",
    "\n",
    "$\\alpha = 0{,}05$ → evidência moderada contra $H_0$\n",
    "\n",
    "$\\alpha = 0{,}01$ → evidência forte contra $H_0$\n",
    "\n",
    "$\\alpha = 0{,}001$ → evidência muito forte contra $H_0$\n",
    "\n",
    "Por exemplo, um teste com $\\alpha = 0{,}05$ significa que estamos dispostos a aceitar uma chance de 5% de rejeitar a hipótese nula quando ela for verdadeira, ou seja, cometer um erro do tipo I.\n",
    "\n",
    "Tipos de Erro\n",
    "\n",
    "Erro Tipo I (falso positivo): Rejeitar a hipótese nula quando ela é verdadeira.Ex: Concluir que um novo modelo é melhor, quando na verdade não é.\n",
    "\n",
    "Erro Tipo II (falso negativo): Não rejeitar a hipótese nula quando ela é falsa.Ex: Deixar de adotar uma melhoria real por não detectar seu efeito.\n",
    "\n",
    "A escolha do nível de significância afeta diretamente o risco de cometer erros, sendo uma etapa essencial na construção de inferências estatísticas confiáveis.\n",
    "\n",
    "Neste capítulo, vamos explorar os principais conceitos e métodos ligados à inferência estatística e aos testes de hipóteses, com foco em aplicações reais na ciência de dados. Entre os tópicos abordados, estão:\n",
    "\n",
    "Hipóteses nula e alternativa\n",
    "\n",
    "Nível de significância e erro tipo I e II\n",
    "\n",
    "Valor p e sua interpretação correta\n",
    "\n",
    "Intervalos de confiança e sua relação com os testes\n",
    "\n",
    "Testes t, z e testes para proporções\n",
    "\n",
    "Considerações práticas em testes A/B\n",
    "\n",
    "Desafios e armadilhas comuns na inferência estatística\n",
    "\n",
    "Vamos construir esse conhecimento passo a passo, conectando a teoria estatística com a prática do dia a dia no desenvolvimento de produtos, experimentação e tomada de decisões baseadas em dados."
   ]
  },
  {
   "cell_type": "code",
   "execution_count": 63,
   "metadata": {},
   "outputs": [
    {
     "name": "stdout",
     "output_type": "stream",
     "text": [
      "H0 é a hipótese nula, que representa os dados originais.\n",
      "H0 Média: 159.25, H0 Desvio Padrão: 13.65\n",
      "H1 é a hipótese alternativa, que representa os dados com um aumento de 3%.\n",
      "H1 Média: 164.0275, H1 Desvio Padrão: 14.0595\n"
     ]
    }
   ],
   "source": [
    "dados_originais = np.array([126. , 129.5, 133. , 133. , 136.5, 136.5, 140. , 140. , 140. ,\n",
    "                            140. , 143.5, 143.5, 143.5, 143.5, 143.5, 143.5, 147. , 147. ,\n",
    "                            147. , 147. , 147. , 147. , 147. , 150.5, 150.5, 150.5, 150.5,\n",
    "                            150.5, 150.5, 150.5, 150.5, 154. , 154. , 154. , 154. , 154. ,\n",
    "                            154. , 154. , 154. , 154. , 157.5, 157.5, 157.5, 157.5, 157.5,\n",
    "                            157.5, 157.5, 157.5, 157.5, 157.5, 161. , 161. , 161. , 161. ,\n",
    "                            161. , 161. , 161. , 161. , 161. , 161. , 164.5, 164.5, 164.5,\n",
    "                            164.5, 164.5, 164.5, 164.5, 164.5, 164.5, 168. , 168. , 168. ,\n",
    "                            168. , 168. , 168. , 168. , 168. , 171.5, 171.5, 171.5, 171.5,\n",
    "                            171.5, 171.5, 171.5, 175. , 175. , 175. , 175. , 175. , 175. ,\n",
    "                            178.5, 178.5, 178.5, 178.5, 182. , 182. , 185.5, 185.5, 189., 192.5])\n",
    "H0_media = np.mean(dados_originais)\n",
    "H0_desvio_padrao = np.std(dados_originais)\n",
    "print('H0 é a hipótese nula, que representa os dados originais.')\n",
    "print(f\"H0 Média: {H0_media}, H0 Desvio Padrão: {H0_desvio_padrao}\")\n",
    "# Simulando novos dados com um aumento de 3%\n",
    "dados_novos = dados_originais * 1.03\n",
    "H1_media = np.mean(dados_novos)\n",
    "H1_desvio_padrao = np.std(dados_novos)\n",
    "print('H1 é a hipótese alternativa, que representa os dados com um aumento de 3%.')\n",
    "print(f\"H1 Média: {H1_media}, H1 Desvio Padrão: {H1_desvio_padrao}\")"
   ]
  },
  {
   "cell_type": "markdown",
   "metadata": {},
   "source": [
    "### Teste de hipótese Z"
   ]
  },
  {
   "cell_type": "code",
   "execution_count": 66,
   "metadata": {},
   "outputs": [
    {
     "name": "stdout",
     "output_type": "stream",
     "text": [
      "Z: 3.398058252427187\n",
      "0.9996606701617486 3.3980582524271936\n",
      "Z (valor crítico): 0.9996606701617486\n",
      "Nível de significância (alpha): 0.05\n",
      "Hipótese nula rejeitada\n"
     ]
    }
   ],
   "source": [
    "H1_n = len(dados_novos)\n",
    "Z = (H1_media - H0_media) / (H1_desvio_padrao / math.sqrt(H1_n))\n",
    "print(f\"Z: {Z}\")\n",
    "\n",
    "print (norm.cdf(3.398058252427187), norm.ppf(0.9996606701617486))\n",
    "\n",
    "Z = norm.cdf(Z)\n",
    "print(f\"Z (valor crítico): {Z}\")\n",
    "alpha = 0.05   # nível de significância\n",
    "print(f\"Nível de significância (alpha): {alpha}\")\n",
    "\n",
    "p = 1 - Z\n",
    "\n",
    "if p < alpha:\n",
    "  print('Hipótese nula rejeitada')\n",
    "else:\n",
    "  print('Hipótese alternativa rejeitada')"
   ]
  },
  {
   "cell_type": "markdown",
   "metadata": {},
   "source": [
    "#### Teste com o statsmodels "
   ]
  },
  {
   "cell_type": "code",
   "execution_count": 72,
   "metadata": {},
   "outputs": [
    {
     "name": "stdout",
     "output_type": "stream",
     "text": [
      "Valor P: 0.9999993877283934\n"
     ]
    }
   ],
   "source": [
    "from statsmodels.stats.weightstats import ztest\n",
    "# Teste de hipótese com statsmodels\n",
    "z_stat, p_value = ztest(dados_originais, dados_novos,\n",
    "             value = H1_media - H0_media,\n",
    "             alternative='larger')\n",
    "\n",
    "print(f\"Valor P: {p_value}\")\n"
   ]
  },
  {
   "cell_type": "markdown",
   "metadata": {},
   "source": [
    "### Teste de hipótese T"
   ]
  },
  {
   "cell_type": "code",
   "execution_count": 76,
   "metadata": {},
   "outputs": [
    {
     "name": "stdout",
     "output_type": "stream",
     "text": [
      "Média dos Dados Originais: 161.77777777777777\n",
      "Desvio Padrão dos Dados Originais: 12.786953227391823\n",
      "Média dos Dados Novos: 165.01333333333332\n",
      "Desvio Padrão dos Dados Novos: 13.042692291939664\n"
     ]
    }
   ],
   "source": [
    "dados_originais = np.array([149. , 160., 147., 189., 175., 168., 156., 160., 152.])\n",
    "print(f\"Média dos Dados Originais: {np.mean(dados_originais)}\")\n",
    "print(f\"Desvio Padrão dos Dados Originais: {np.std(dados_originais)}\")\n",
    "dados_novos = dados_originais * 1.02\n",
    "print(f\"Média dos Dados Novos: {np.mean(dados_novos)}\")\n",
    "print(f\"Desvio Padrão dos Dados Novos: {np.std(dados_novos)}\")"
   ]
  },
  {
   "cell_type": "code",
   "execution_count": 78,
   "metadata": {},
   "outputs": [
    {
     "name": "stdout",
     "output_type": "stream",
     "text": [
      "Valor P do Teste t: 4.072922493930298e-10\n"
     ]
    }
   ],
   "source": [
    "from scipy.stats import ttest_rel\n",
    "_, p_value = ttest_rel(dados_originais, dados_novos)\n",
    "print(f\"Valor P do Teste t: {p_value}\")"
   ]
  },
  {
   "cell_type": "code",
   "execution_count": 79,
   "metadata": {},
   "outputs": [
    {
     "name": "stdout",
     "output_type": "stream",
     "text": [
      "Hipótese nula rejeitada\n"
     ]
    }
   ],
   "source": [
    "alpha = 0.01\n",
    "if p <= alpha:\n",
    "  print('Hipótese nula rejeitada')\n",
    "else:\n",
    "  print('Hipótese alternativa rejeitada')\n"
   ]
  },
  {
   "cell_type": "markdown",
   "metadata": {},
   "source": [
    "### Teste qui quadrado"
   ]
  },
  {
   "cell_type": "code",
   "execution_count": 81,
   "metadata": {},
   "outputs": [],
   "source": [
    "from scipy.stats import chi2_contingency"
   ]
  },
  {
   "cell_type": "code",
   "execution_count": 86,
   "metadata": {},
   "outputs": [
    {
     "name": "stdout",
     "output_type": "stream",
     "text": [
      "Chi2ContingencyResult(statistic=np.float64(1.9631410256410255), pvalue=np.float64(0.16117778944980238), dof=1, expected_freq=array([[26., 24.],\n",
      "       [26., 24.]]))\n",
      "Valor P do Teste qui-quadrado: 0.16117778944980238\n",
      "Hipótese alternativa rejeitada\n"
     ]
    }
   ],
   "source": [
    "tabela = np.array([[30, 20], [22, 28]])\n",
    "print(chi2_contingency(tabela))\n",
    "\n",
    "_, p, _, _ = chi2_contingency(tabela)\n",
    "print(f\"Valor P do Teste qui-quadrado: {p}\")\n",
    "\n",
    "alpha = 0.05\n",
    "if p <= alpha:\n",
    "  print('Hipótese nula rejeitada')\n",
    "else:\n",
    "  print('Hipótese alternativa rejeitada')"
   ]
  },
  {
   "cell_type": "markdown",
   "metadata": {},
   "source": [
    "### Seleção de atributos com testes de hipóteses - univariate SelectFdr\n",
    "\n",
    "Testes estatísticos univariados são aqueles que envolvem uma variável dependente, por exemplo, teste t ou teste z para comparação de médias\n",
    "\n",
    "Documentação: https://scikit-learn.org/stable/modules/generated/sklearn.feature_selection.SelectFpr.html#sklearn.feature_selection.SelectFpr\n",
    "\n",
    "False discovery rate: https://en.wikipedia.org/wiki/False_discovery_rate\n",
    "\n",
    "Proporção esperada de erros do tipo I. Um erro do tipo I é quando a hipótese nula é rejeitada incorretamente, ou seja, é obtido um falso positivo\n",
    "\n",
    "Erro I: https://www.statisticshowto.datasciencecentral.com/probability-and-statistics/statistics-definitions/type-i-error-type-ii-error-decision/"
   ]
  },
  {
   "cell_type": "code",
   "execution_count": 94,
   "metadata": {},
   "outputs": [],
   "source": [
    "import pandas as pd\n",
    "import numpy as np\n",
    "from sklearn.feature_selection import SelectFdr\n",
    "from sklearn.feature_selection import chi2\n",
    "from sklearn.naive_bayes import GaussianNB\n",
    "from sklearn.metrics import accuracy_score"
   ]
  },
  {
   "cell_type": "code",
   "execution_count": 95,
   "metadata": {},
   "outputs": [
    {
     "data": {
      "text/plain": [
       "(array(['ad.', 'nonad.'], dtype=object), array([ 459, 2820]))"
      ]
     },
     "execution_count": 95,
     "metadata": {},
     "output_type": "execute_result"
    }
   ],
   "source": [
    "dataset = pd.read_csv('data/ad.data', header=None)\n",
    "X = dataset.iloc[:, 0:1558].values\n",
    "y = dataset.iloc[:, 1558].values\n",
    "np.unique(y, return_counts=True)"
   ]
  },
  {
   "cell_type": "markdown",
   "metadata": {},
   "source": [
    "#### Sem seleção de atributos"
   ]
  },
  {
   "cell_type": "code",
   "execution_count": 96,
   "metadata": {},
   "outputs": [
    {
     "data": {
      "text/plain": [
       "0.7813357731015553"
      ]
     },
     "execution_count": 96,
     "metadata": {},
     "output_type": "execute_result"
    }
   ],
   "source": [
    "naive1 = GaussianNB()\n",
    "naive1.fit(X, y)\n",
    "previsoes1 = naive1.predict(X)\n",
    "accuracy_score(y, previsoes1)"
   ]
  },
  {
   "cell_type": "markdown",
   "metadata": {},
   "source": [
    "#### Seleção de atributos com Qui Quadrado"
   ]
  },
  {
   "cell_type": "code",
   "execution_count": 100,
   "metadata": {},
   "outputs": [
    {
     "data": {
      "text/plain": [
       "((3279, 1558), (3279, 433))"
      ]
     },
     "execution_count": 100,
     "metadata": {},
     "output_type": "execute_result"
    }
   ],
   "source": [
    "selecao = SelectFdr(chi2, alpha=0.01)\n",
    "X_novo = selecao.fit_transform(X, y)\n",
    "X.shape, X_novo.shape"
   ]
  },
  {
   "cell_type": "code",
   "execution_count": 101,
   "metadata": {},
   "outputs": [
    {
     "data": {
      "text/plain": [
       "(array([2.14710304e-268, 0.00000000e+000, 8.98165813e-150, ...,\n",
       "        6.03353380e-041, 5.63437216e-012, 9.37945775e-002], shape=(1558,)),\n",
       " 1558)"
      ]
     },
     "execution_count": 101,
     "metadata": {},
     "output_type": "execute_result"
    }
   ],
   "source": [
    "selecao.pvalues_, len(selecao.pvalues_)"
   ]
  },
  {
   "cell_type": "markdown",
   "metadata": {},
   "source": [
    "testar cada valor de p-value"
   ]
  },
  {
   "cell_type": "code",
   "execution_count": 103,
   "metadata": {},
   "outputs": [
    {
     "name": "stdout",
     "output_type": "stream",
     "text": [
      "Número de variáveis com p menor que 0.01: 476\n"
     ]
    }
   ],
   "source": [
    "num_ = np.sum(selecao.pvalues_ <= 0.01)\n",
    "print(f\"Número de variáveis com p menor que 0.01: {num_}\")"
   ]
  },
  {
   "cell_type": "code",
   "execution_count": 104,
   "metadata": {},
   "outputs": [
    {
     "data": {
      "text/plain": [
       "array([ True,  True,  True, ...,  True,  True, False], shape=(1558,))"
      ]
     },
     "execution_count": 104,
     "metadata": {},
     "output_type": "execute_result"
    }
   ],
   "source": [
    "colunas = selecao.get_support()\n",
    "colunas"
   ]
  },
  {
   "cell_type": "code",
   "execution_count": 106,
   "metadata": {},
   "outputs": [],
   "source": [
    "indices = np.where(colunas == True)"
   ]
  },
  {
   "cell_type": "code",
   "execution_count": 108,
   "metadata": {},
   "outputs": [],
   "source": [
    "naive2 = GaussianNB()\n",
    "naive2.fit(X_novo, y)\n",
    "previsoes2 = naive2.predict(X_novo)\n",
    "acc_com_qui2 = accuracy_score(y, previsoes2)"
   ]
  },
  {
   "cell_type": "code",
   "execution_count": 109,
   "metadata": {},
   "outputs": [
    {
     "name": "stdout",
     "output_type": "stream",
     "text": [
      "Acurácia com qui-quadrado: 0.970722781335773\n",
      "Acurácia sem qui-quadrado: 0.7813357731015553\n"
     ]
    }
   ],
   "source": [
    "print(f\"Acurácia com qui-quadrado: {acc_com_qui2}\")\n",
    "print(f\"Acurácia sem qui-quadrado: {accuracy_score(y, previsoes1)}\")"
   ]
  },
  {
   "cell_type": "markdown",
   "metadata": {},
   "source": [
    "### ANOVA — Análise de Variância\n",
    "\n",
    "A **ANOVA** (*Analysis of Variance*) é um teste estatístico utilizado para comparar **médias entre três ou mais grupos independentes**. Ao invés de realizar múltiplos testes t pareados (o que aumenta o risco de erro tipo I), a ANOVA permite testar, de forma global, se pelo menos um dos grupos difere significativamente dos outros.\n",
    "\n",
    "---\n",
    "\n",
    "#### Quando usar ANOVA?\n",
    "\n",
    "- Quando há **mais de dois grupos** e queremos saber se **existe alguma diferença entre as médias**.\n",
    "- Exemplo típico: comparar a taxa de conversão de três versões de uma página (A, B e C).\n",
    "\n",
    "---\n",
    "\n",
    "#### Hipóteses do teste ANOVA\n",
    "\n",
    "- **Hipótese nula (H₀)**: todas as médias são iguais.  \n",
    "  > μ₁ = μ₂ = μ₃ = ... = μₖ  \n",
    "- **Hipótese alternativa (H₁)**: pelo menos uma média é diferente.\n",
    "\n",
    "---\n",
    "\n",
    "#### Como funciona\n",
    "\n",
    "A ANOVA avalia a variação total dos dados e a decompõe em duas partes:\n",
    "\n",
    "- **Variação entre os grupos** (devido às diferenças entre as médias dos grupos)\n",
    "- **Variação dentro dos grupos** (devido à variabilidade natural dos dados)\n",
    "\n",
    "Com base nisso, calcula-se a **estatística F**, que compara essas duas fontes de variação:\n",
    "\n",
    "$$\n",
    "F = \\frac{\\text{Variância entre os grupos}}{\\text{Variância dentro dos grupos}}\n",
    "$$\n",
    "\n",
    "Um valor de **F elevado** sugere que as diferenças entre os grupos são maiores do que seria esperado pelo acaso.\n",
    "\n",
    "---\n",
    "\n",
    "#### Valor p na ANOVA\n",
    "\n",
    "Assim como em outros testes de hipótese, o valor p obtido indica a **probabilidade de observar uma estatística F tão extrema quanto a encontrada, assumindo que H₀ é verdadeira**.\n",
    "\n",
    "- Se o **valor p < α (ex: 0,05)** → rejeita-se a hipótese nula → pelo menos um grupo tem média diferente.\n",
    "- Se o **valor p ≥ α** → não há evidência suficiente para afirmar que há diferença entre as médias.\n",
    "\n",
    "---\n",
    "\n",
    "#### Importante\n",
    "\n",
    "- A ANOVA apenas detecta **se há diferença**, mas **não informa quais grupos diferem entre si**.\n",
    "- Para isso, utiliza-se um **teste post hoc**, como **Tukey** ou **Bonferroni**, que faz comparações múltiplas controlando o erro tipo I.\n",
    "\n",
    "---\n",
    "\n",
    "A ANOVA é uma ferramenta essencial quando lidamos com experimentos envolvendo múltiplos grupos, pois oferece uma maneira estatisticamente robusta de investigar diferenças nas médias com controle adequado do risco de falsos positivos.\n"
   ]
  },
  {
   "cell_type": "code",
   "execution_count": 112,
   "metadata": {},
   "outputs": [],
   "source": [
    "grupo_a = np.array([165, 152, 143, 140, 155])\n",
    "grupo_b = np.array([130, 169, 164, 143, 154])\n",
    "grupo_c = np.array([163, 158, 154, 149, 156])"
   ]
  },
  {
   "cell_type": "code",
   "execution_count": 113,
   "metadata": {},
   "outputs": [],
   "source": [
    "from scipy.stats import f"
   ]
  },
  {
   "cell_type": "code",
   "execution_count": 114,
   "metadata": {},
   "outputs": [
    {
     "data": {
      "text/plain": [
       "np.float64(3.8852938346523946)"
      ]
     },
     "execution_count": 114,
     "metadata": {},
     "output_type": "execute_result"
    }
   ],
   "source": [
    "# Teste F para comparar as variâncias dos grupos\n",
    "f.ppf(1 - 0.05, dfn = 2, dfd = 12)"
   ]
  },
  {
   "cell_type": "code",
   "execution_count": 115,
   "metadata": {},
   "outputs": [
    {
     "name": "stdout",
     "output_type": "stream",
     "text": [
      "Valor P do Teste ANOVA: 0.7613994386091956\n"
     ]
    }
   ],
   "source": [
    "from scipy.stats import f_oneway\n",
    "# Teste ANOVA para comparar as médias dos grupos\n",
    "_, p = f_oneway(grupo_a, grupo_b, grupo_c)\n",
    "print(f\"Valor P do Teste ANOVA: {p}\")"
   ]
  },
  {
   "cell_type": "code",
   "execution_count": 116,
   "metadata": {},
   "outputs": [
    {
     "name": "stdout",
     "output_type": "stream",
     "text": [
      "Hipótese alternativa rejeitada\n"
     ]
    }
   ],
   "source": [
    "alpha = 0.05\n",
    "if p <= alpha:\n",
    "  print('Hipótese nula rejeitada')\n",
    "else:\n",
    "  print('Hipótese alternativa rejeitada')"
   ]
  },
  {
   "cell_type": "markdown",
   "metadata": {},
   "source": [
    "### Teste de Tukey (HSD – Honest Significant Difference)\n",
    "\n",
    "O **Teste de Tukey**, também conhecido como **Tukey HSD (Honest Significant Difference)**, é um teste **post hoc** utilizado após uma **ANOVA** quando encontramos uma diferença significativa entre os grupos.\n",
    "\n",
    "Enquanto a ANOVA nos diz **se existe alguma diferença** entre as médias, ela **não informa quais grupos diferem entre si**. É aí que entra o teste de Tukey: ele realiza **comparações múltiplas pareadas** entre os grupos para identificar exatamente **quais pares de médias** são significativamente diferentes.\n",
    "\n",
    "---\n",
    "\n",
    "####  Objetivo\n",
    "\n",
    "Identificar **quais grupos específicos possuem médias significativamente diferentes**, controlando o **erro do tipo I** que surgiria se fizéssemos diversos testes t independentes.\n",
    "\n",
    "---\n",
    "\n",
    "#### Como funciona\n",
    "\n",
    "O teste calcula uma **diferença mínima significativa** entre as médias dos grupos com base em:\n",
    "\n",
    "- A variabilidade dos dados (variância dentro dos grupos)\n",
    "- O número de comparações\n",
    "- O tamanho das amostras\n",
    "\n",
    "Se a diferença entre dois grupos for maior do que essa diferença crítica, consideramos que há **diferença estatisticamente significativa** entre eles.\n",
    "\n",
    "---\n",
    "\n",
    "#### Quando usar\n",
    "\n",
    "- Após uma ANOVA com resultado significativo (valor p < α)\n",
    "- Quando há **três ou mais grupos** sendo comparados\n",
    "- Quando os grupos têm tamanhos iguais ou aproximadamente iguais\n",
    "\n",
    "---\n",
    "\n",
    "#### Exemplo prático\n",
    "\n",
    "Suponha que um teste ANOVA com três versões de uma campanha de marketing (A, B e C) resultou em **p < 0,01**. Com o teste de Tukey, podemos descobrir se:\n",
    "\n",
    "- A difere de B  \n",
    "- A difere de C  \n",
    "- B difere de C  \n",
    "\n",
    "E em quais dessas comparações há diferença estatística real.\n",
    "\n",
    "---\n",
    "\n",
    "O Teste de Tukey é uma ferramenta essencial para análises mais aprofundadas após uma ANOVA, garantindo interpretações precisas e evitando conclusões enganosas com múltiplas comparações.\n"
   ]
  },
  {
   "cell_type": "code",
   "execution_count": 118,
   "metadata": {},
   "outputs": [],
   "source": [
    "dados = {'valores': [70, 90, 80, 50, 20, 130, 169, 164, 143, 154, 163, 158, 154, 149, 156],\n",
    "         'grupo': ['A', 'A', 'A', 'A', 'A', 'B', 'B', 'B', 'B', 'B', 'C', 'C', 'C', 'C', 'C']}"
   ]
  },
  {
   "cell_type": "markdown",
   "metadata": {},
   "source": [
    "A hipótese alternativa é que há diferença estatística siginificativa de um grupo com outro"
   ]
  },
  {
   "cell_type": "code",
   "execution_count": 125,
   "metadata": {},
   "outputs": [
    {
     "data": {
      "text/html": [
       "<div>\n",
       "<style scoped>\n",
       "    .dataframe tbody tr th:only-of-type {\n",
       "        vertical-align: middle;\n",
       "    }\n",
       "\n",
       "    .dataframe tbody tr th {\n",
       "        vertical-align: top;\n",
       "    }\n",
       "\n",
       "    .dataframe thead th {\n",
       "        text-align: right;\n",
       "    }\n",
       "</style>\n",
       "<table border=\"1\" class=\"dataframe\">\n",
       "  <thead>\n",
       "    <tr style=\"text-align: right;\">\n",
       "      <th></th>\n",
       "      <th>valores</th>\n",
       "      <th>grupo</th>\n",
       "    </tr>\n",
       "  </thead>\n",
       "  <tbody>\n",
       "    <tr>\n",
       "      <th>0</th>\n",
       "      <td>70</td>\n",
       "      <td>A</td>\n",
       "    </tr>\n",
       "    <tr>\n",
       "      <th>1</th>\n",
       "      <td>90</td>\n",
       "      <td>A</td>\n",
       "    </tr>\n",
       "    <tr>\n",
       "      <th>2</th>\n",
       "      <td>80</td>\n",
       "      <td>A</td>\n",
       "    </tr>\n",
       "    <tr>\n",
       "      <th>3</th>\n",
       "      <td>50</td>\n",
       "      <td>A</td>\n",
       "    </tr>\n",
       "    <tr>\n",
       "      <th>4</th>\n",
       "      <td>20</td>\n",
       "      <td>A</td>\n",
       "    </tr>\n",
       "    <tr>\n",
       "      <th>5</th>\n",
       "      <td>130</td>\n",
       "      <td>B</td>\n",
       "    </tr>\n",
       "    <tr>\n",
       "      <th>6</th>\n",
       "      <td>169</td>\n",
       "      <td>B</td>\n",
       "    </tr>\n",
       "    <tr>\n",
       "      <th>7</th>\n",
       "      <td>164</td>\n",
       "      <td>B</td>\n",
       "    </tr>\n",
       "    <tr>\n",
       "      <th>8</th>\n",
       "      <td>143</td>\n",
       "      <td>B</td>\n",
       "    </tr>\n",
       "    <tr>\n",
       "      <th>9</th>\n",
       "      <td>154</td>\n",
       "      <td>B</td>\n",
       "    </tr>\n",
       "    <tr>\n",
       "      <th>10</th>\n",
       "      <td>163</td>\n",
       "      <td>C</td>\n",
       "    </tr>\n",
       "    <tr>\n",
       "      <th>11</th>\n",
       "      <td>158</td>\n",
       "      <td>C</td>\n",
       "    </tr>\n",
       "    <tr>\n",
       "      <th>12</th>\n",
       "      <td>154</td>\n",
       "      <td>C</td>\n",
       "    </tr>\n",
       "    <tr>\n",
       "      <th>13</th>\n",
       "      <td>149</td>\n",
       "      <td>C</td>\n",
       "    </tr>\n",
       "    <tr>\n",
       "      <th>14</th>\n",
       "      <td>156</td>\n",
       "      <td>C</td>\n",
       "    </tr>\n",
       "  </tbody>\n",
       "</table>\n",
       "</div>"
      ],
      "text/plain": [
       "    valores grupo\n",
       "0        70     A\n",
       "1        90     A\n",
       "2        80     A\n",
       "3        50     A\n",
       "4        20     A\n",
       "5       130     B\n",
       "6       169     B\n",
       "7       164     B\n",
       "8       143     B\n",
       "9       154     B\n",
       "10      163     C\n",
       "11      158     C\n",
       "12      154     C\n",
       "13      149     C\n",
       "14      156     C"
      ]
     },
     "execution_count": 125,
     "metadata": {},
     "output_type": "execute_result"
    }
   ],
   "source": [
    "import pandas as pd\n",
    "dados_pd = pd.DataFrame(dados)\n",
    "dados_pd"
   ]
  },
  {
   "cell_type": "code",
   "execution_count": 126,
   "metadata": {},
   "outputs": [],
   "source": [
    "from statsmodels.stats.multicomp import MultiComparison"
   ]
  },
  {
   "cell_type": "code",
   "execution_count": 127,
   "metadata": {},
   "outputs": [
    {
     "name": "stdout",
     "output_type": "stream",
     "text": [
      " Multiple Comparison of Means - Tukey HSD, FWER=0.05  \n",
      "======================================================\n",
      "group1 group2 meandiff p-adj   lower    upper   reject\n",
      "------------------------------------------------------\n",
      "     A      B     90.0    0.0  58.4785 121.5215   True\n",
      "     A      C     94.0    0.0  62.4785 125.5215   True\n",
      "     B      C      4.0 0.9391 -27.5215  35.5215  False\n",
      "------------------------------------------------------\n"
     ]
    }
   ],
   "source": [
    "compara_grupos = MultiComparison(dados_pd['valores'], dados_pd['grupo'])\n",
    "teste = compara_grupos.tukeyhsd()\n",
    "print(teste)"
   ]
  },
  {
   "cell_type": "code",
   "execution_count": 128,
   "metadata": {},
   "outputs": [
    {
     "data": {
      "image/png": "[encoded data removed]",
      "text/plain": [
       "<Figure size 1000x600 with 1 Axes>"
      ]
     },
     "metadata": {},
     "output_type": "display_data"
    }
   ],
   "source": [
    "teste.plot_simultaneous();"
   ]
  },
  {
   "cell_type": "markdown",
   "metadata": {},
   "source": [
    "#### Seleção de atributos com ANOVA"
   ]
  },
  {
   "cell_type": "code",
   "execution_count": 130,
   "metadata": {},
   "outputs": [],
   "source": [
    "from sklearn.feature_selection import SelectFdr, f_classif"
   ]
  },
  {
   "cell_type": "code",
   "execution_count": 131,
   "metadata": {},
   "outputs": [],
   "source": [
    "selecao = SelectFdr(f_classif, alpha = 0.01)\n",
    "X_novo_2 = selecao.fit_transform(X, y)"
   ]
  },
  {
   "cell_type": "code",
   "execution_count": 132,
   "metadata": {},
   "outputs": [
    {
     "data": {
      "text/plain": [
       "((3279, 1558), (3279, 433), (3279, 433))"
      ]
     },
     "execution_count": 132,
     "metadata": {},
     "output_type": "execute_result"
    }
   ],
   "source": [
    "X.shape, X_novo.shape, X_novo_2.shape"
   ]
  },
  {
   "cell_type": "code",
   "execution_count": 133,
   "metadata": {},
   "outputs": [
    {
     "data": {
      "text/plain": [
       "np.int64(476)"
      ]
     },
     "execution_count": 133,
     "metadata": {},
     "output_type": "execute_result"
    }
   ],
   "source": [
    "np.sum(selecao.pvalues_ < 0.01)"
   ]
  },
  {
   "cell_type": "code",
   "execution_count": 134,
   "metadata": {},
   "outputs": [
    {
     "data": {
      "text/plain": [
       "0.970722781335773"
      ]
     },
     "execution_count": 134,
     "metadata": {},
     "output_type": "execute_result"
    }
   ],
   "source": [
    "naive3 = GaussianNB()\n",
    "naive3.fit(X_novo_2, y)\n",
    "previsoes3 = naive3.predict(X_novo_2)\n",
    "accuracy_score(y, previsoes3)"
   ]
  },
  {
   "cell_type": "markdown",
   "metadata": {},
   "source": [
    "Provavelemente retornou os mesmo atributos do SelectFdr com chi2, mas com uma abordagem diferente de teste estatístico."
   ]
  },
  {
   "cell_type": "markdown",
   "metadata": {},
   "source": [
    "#### Teste de hipótese de Shapiro-Wilk\n",
    "\n",
    "O **teste de Shapiro-Wilk** é um dos métodos mais usados para verificar se uma amostra de dados segue uma **distribuição normal**. Ele é especialmente indicado para **amostras pequenas ou moderadas** (n < 50, mas aplicável até n ≈ 2000) e é amplamente utilizado em análises estatísticas e experimentos científicos como um pré-requisito para testes paramétricos, como **teste t** ou **ANOVA**.\n",
    "\n",
    "- **Hipótese nula (H₀)**: os dados seguem uma distribuição normal.\n",
    "- **Hipótese alternativa (H₁)**: os dados **não** seguem uma distribuição normal.\n",
    "\n",
    " - https://en.wikipedia.org/wiki/Shapiro%E2%80%93Wilk_test"
   ]
  },
  {
   "cell_type": "markdown",
   "metadata": {},
   "source": [
    "Imagine que, ao invés de treinar e testar o modelo uma única vez, decidimos repetir esse processo **30 vezes**, cada vez com uma **nova divisão dos dados** entre treino e teste. E em cada uma dessas vezes:\n",
    "\n",
    "- Dividimos os dados em **10 partes (folds)**;\n",
    "- Usamos **9 partes para treino** e **1 para teste**, repetindo isso 10 vezes internamente (validação cruzada);\n",
    "- Calculamos a **acurácia média** dessas 10 rodadas;\n",
    "- Armazenamos essa média em um vetor.\n",
    "\n",
    "Ao final, temos um vetor com **30 valores de acurácia média**, um para cada execução da validação cruzada com divisão diferente dos dados. Esse vetor é o que chamamos de `resultados_naive_cv`."
   ]
  },
  {
   "cell_type": "code",
   "execution_count": 146,
   "metadata": {},
   "outputs": [
    {
     "data": {
      "text/plain": [
       "(np.float64(0.9249859296482411),\n",
       " np.float64(0.9456840871021776),\n",
       " np.float64(0.9865972361809043))"
      ]
     },
     "execution_count": 146,
     "metadata": {},
     "output_type": "execute_result"
    }
   ],
   "source": [
    "# Retomando o código de classificação com validação cruzada\n",
    "import pandas as pd\n",
    "from sklearn.naive_bayes import GaussianNB\n",
    "from sklearn.linear_model import LogisticRegression\n",
    "from sklearn.ensemble import RandomForestClassifier\n",
    "from sklearn.model_selection import cross_val_score, KFold\n",
    "dataset = pd.read_csv('data/credit_data.csv')\n",
    "dataset.dropna(inplace=True)\n",
    "dataset.head()\n",
    "\n",
    "X = dataset.iloc[:, 1:4].values\n",
    "y = dataset.iloc[:, 4].values\n",
    "\n",
    "min(X[0]), max(X[0])\n",
    "\n",
    "from sklearn.preprocessing import StandardScaler\n",
    "scaler = StandardScaler()\n",
    "X = scaler.fit_transform(X)\n",
    "\n",
    "min(X[0]), max(X[0])\n",
    "\n",
    "resultados_naive_cv = []\n",
    "resultados_logistica_cv = []\n",
    "resultados_forest_cv = []\n",
    "for i in range(30):\n",
    "  kfold = KFold(n_splits = 10, shuffle = True, random_state = i)\n",
    "\n",
    "  naive_bayes = GaussianNB()\n",
    "  scores = cross_val_score(naive_bayes, X, y, cv = kfold)\n",
    "  resultados_naive_cv.append(scores.mean())\n",
    "\n",
    "  logistica = LogisticRegression()\n",
    "  scores = cross_val_score(logistica, X, y, cv = kfold)\n",
    "  resultados_logistica_cv.append(scores.mean())\n",
    "\n",
    "  random_forest = RandomForestClassifier()\n",
    "  scores = cross_val_score(random_forest, X, y, cv = kfold)\n",
    "  resultados_forest_cv.append(scores.mean())\n",
    "\n",
    "resultados_naive_cv = np.array(resultados_naive_cv)\n",
    "resultados_logistica_cv = np.array(resultados_logistica_cv)\n",
    "resultados_forest_cv = np.array(resultados_forest_cv)\n",
    "\n",
    "resultados_naive_cv.mean(), resultados_logistica_cv.mean(), resultados_forest_cv.mean()"
   ]
  },
  {
   "cell_type": "code",
   "execution_count": 147,
   "metadata": {},
   "outputs": [
    {
     "data": {
      "text/plain": [
       "(ShapiroResult(statistic=np.float64(0.9646666277541406), pvalue=np.float64(0.4051707299447918)),\n",
       " ShapiroResult(statistic=np.float64(0.9471798541563068), pvalue=np.float64(0.14200818948014182)),\n",
       " ShapiroResult(statistic=np.float64(0.9653776883637821), pvalue=np.float64(0.42154217887978246)))"
      ]
     },
     "execution_count": 147,
     "metadata": {},
     "output_type": "execute_result"
    }
   ],
   "source": [
    "alpha = 0.05\n",
    "\n",
    "from scipy.stats import shapiro\n",
    "shapiro(resultados_naive_cv), shapiro(resultados_logistica_cv), shapiro(resultados_forest_cv)"
   ]
  },
  {
   "cell_type": "markdown",
   "metadata": {},
   "source": [
    "Os resultados obtidos foram:\n",
    "\n",
    "Naive Bayes: statistic = 0.9647, p-value = 0.4052\n",
    "\n",
    "Logística: statistic = 0.9472, p-value = 0.1420\n",
    "\n",
    "Random Forest: statistic = 0.9507, p-value = 0.1769\n",
    "\n",
    "Com um nível de significância $\\alpha = 0{,}05$, interpretamos os p-valores da seguinte forma:\n",
    "\n",
    "Todos os p-valores são maiores que 0,05, portanto não há evidência suficiente para rejeitar a hipótese nula de que os dados seguem uma distribuição normal.\n",
    "\n",
    "Isso significa que, segundo o teste de Shapiro-Wilk, os valores médios de acurácia obtidos em cada repetição de validação cruzada para os três modelos podem ser considerados normalmente distribuídos."
   ]
  },
  {
   "cell_type": "code",
   "execution_count": 148,
   "metadata": {},
   "outputs": [
    {
     "name": "stderr",
     "output_type": "stream",
     "text": [
      "C:\\Users\\lucas.souza\\AppData\\Local\\Temp\\ipykernel_15448\\3068692970.py:2: UserWarning: \n",
      "\n",
      "`distplot` is a deprecated function and will be removed in seaborn v0.14.0.\n",
      "\n",
      "Please adapt your code to use either `displot` (a figure-level function with\n",
      "similar flexibility) or `histplot` (an axes-level function for histograms).\n",
      "\n",
      "For a guide to updating your code to use the new functions, please see\n",
      "https://gist.github.com/mwaskom/de44147ed2974457ad6372750bbe5751\n",
      "\n",
      "  sns.distplot(resultados_naive_cv);\n",
      "c:\\Users\\lucas.souza\\AppData\\Local\\anaconda3\\Lib\\site-packages\\seaborn\\_oldcore.py:1119: FutureWarning: use_inf_as_na option is deprecated and will be removed in a future version. Convert inf values to NaN before operating instead.\n",
      "  with pd.option_context('mode.use_inf_as_na', True):\n",
      "C:\\Users\\lucas.souza\\AppData\\Local\\Temp\\ipykernel_15448\\3068692970.py:4: UserWarning: \n",
      "\n",
      "`distplot` is a deprecated function and will be removed in seaborn v0.14.0.\n",
      "\n",
      "Please adapt your code to use either `displot` (a figure-level function with\n",
      "similar flexibility) or `histplot` (an axes-level function for histograms).\n",
      "\n",
      "For a guide to updating your code to use the new functions, please see\n",
      "https://gist.github.com/mwaskom/de44147ed2974457ad6372750bbe5751\n",
      "\n",
      "  sns.distplot(resultados_logistica_cv);\n",
      "c:\\Users\\lucas.souza\\AppData\\Local\\anaconda3\\Lib\\site-packages\\seaborn\\_oldcore.py:1119: FutureWarning: use_inf_as_na option is deprecated and will be removed in a future version. Convert inf values to NaN before operating instead.\n",
      "  with pd.option_context('mode.use_inf_as_na', True):\n",
      "C:\\Users\\lucas.souza\\AppData\\Local\\Temp\\ipykernel_15448\\3068692970.py:6: UserWarning: \n",
      "\n",
      "`distplot` is a deprecated function and will be removed in seaborn v0.14.0.\n",
      "\n",
      "Please adapt your code to use either `displot` (a figure-level function with\n",
      "similar flexibility) or `histplot` (an axes-level function for histograms).\n",
      "\n",
      "For a guide to updating your code to use the new functions, please see\n",
      "https://gist.github.com/mwaskom/de44147ed2974457ad6372750bbe5751\n",
      "\n",
      "  sns.distplot(resultados_forest_cv);\n",
      "c:\\Users\\lucas.souza\\AppData\\Local\\anaconda3\\Lib\\site-packages\\seaborn\\_oldcore.py:1119: FutureWarning: use_inf_as_na option is deprecated and will be removed in a future version. Convert inf values to NaN before operating instead.\n",
      "  with pd.option_context('mode.use_inf_as_na', True):\n"
     ]
    },
    {
     "data": {
      "image/png": "[encoded data removed]",
      "text/plain": [
       "<Figure size 640x480 with 1 Axes>"
      ]
     },
     "metadata": {},
     "output_type": "display_data"
    }
   ],
   "source": [
    "import seaborn as sns\n",
    "sns.distplot(resultados_naive_cv);\n",
    "\n",
    "sns.distplot(resultados_logistica_cv);\n",
    "\n",
    "sns.distplot(resultados_forest_cv);"
   ]
  },
  {
   "cell_type": "markdown",
   "metadata": {},
   "source": [
    "### Teste de hipótese de D'Agostinho K²\n",
    "\n",
    "Além do teste de Shapiro-Wilk, outra abordagem comum para verificar se uma amostra segue uma distribuição normal é o **teste de normalidade de D’Agostino e Pearson**, acessado via `scipy.stats.normaltest`. Ele combina medidas de assimetria (skewness) e curtose para testar a hipótese de que a amostra provém de uma distribuição normal.\n",
    "\n",
    "\n",
    "- https://en.wikipedia.org/wiki/D%27Agostino%27s_K-squared_test"
   ]
  },
  {
   "cell_type": "code",
   "execution_count": 149,
   "metadata": {},
   "outputs": [
    {
     "data": {
      "text/plain": [
       "(NormaltestResult(statistic=np.float64(0.8391668731677201), pvalue=np.float64(0.6573205784978502)),\n",
       " NormaltestResult(statistic=np.float64(3.451262283252913), pvalue=np.float64(0.1780606348224519)),\n",
       " NormaltestResult(statistic=np.float64(1.3839744728483154), pvalue=np.float64(0.5005803085655869)))"
      ]
     },
     "execution_count": 149,
     "metadata": {},
     "output_type": "execute_result"
    }
   ],
   "source": [
    "from scipy.stats import normaltest\n",
    "normaltest(resultados_naive_cv), normaltest(resultados_logistica_cv), normaltest(resultados_forest_cv)"
   ]
  },
  {
   "cell_type": "markdown",
   "metadata": {},
   "source": [
    "Os resultados (estatística de teste e p-valor) foram:\n",
    "\n",
    "Naive Bayes:\n",
    "statistic = 0.839, p-value = 0.657\n",
    "\n",
    "Logística:\n",
    "statistic = 3.451, p-value = 0.178\n",
    "\n",
    "Random Forest:\n",
    "statistic = 3.570, p-value = 0.167\n",
    "\n",
    "Com um nível de significância de α = 0,05, interpretamos:\n",
    "\n",
    "Os p-valores são todos maiores que 0,05, portanto não rejeitamos a hipótese nula de normalidade.\n",
    "\n",
    "Isso indica que, de acordo com o teste de D’Agostino e Pearson, os resultados médios de acurácia para os três modelos podem ser considerados normalmente distribuídos.\n",
    "\n",
    "Essa verificação fortalece a suposição de normalidade dos dados, permitindo o uso de testes paramétricos como o teste t ou a ANOVA para comparar o desempenho entre modelos de forma estatisticamente rigorosa."
   ]
  },
  {
   "cell_type": "markdown",
   "metadata": {},
   "source": [
    "### Teste de hipótese de Anderson-Darling\n",
    "\n",
    "O **teste de Anderson-Darling** é outro método estatístico usado para verificar se uma amostra segue uma determinada distribuição — neste caso, **a normal**. É considerado mais sensível que o teste de Shapiro-Wilk, especialmente para detectar desvios nas caudas da distribuição.\n",
    "\n",
    "Este teste retorna um valor estatístico (`statistic`) que deve ser comparado com **valores críticos associados a diferentes níveis de significância (α)**. Esses valores são fornecidos pelo próprio resultado do `anderson()`.\n",
    "\n",
    "\n",
    "- https://en.wikipedia.org/wiki/Anderson%E2%80%93Darling_test"
   ]
  },
  {
   "cell_type": "code",
   "execution_count": 150,
   "metadata": {},
   "outputs": [
    {
     "data": {
      "text/plain": [
       "(np.float64(0.5456346672421084),\n",
       " np.float64(0.6415811877848903),\n",
       " np.float64(0.4225943966628023))"
      ]
     },
     "execution_count": 150,
     "metadata": {},
     "output_type": "execute_result"
    }
   ],
   "source": [
    "from scipy.stats import anderson\n",
    "anderson(resultados_naive_cv).statistic, anderson(resultados_logistica_cv).statistic, anderson(resultados_forest_cv).statistic"
   ]
  },
  {
   "cell_type": "markdown",
   "metadata": {},
   "source": [
    "---\n",
    "\n",
    "### Teste de Wilcoxon Signed-Rank\n",
    "\n",
    "O **teste de Wilcoxon Signed-Rank** é um **teste não paramétrico** usado para **comparar dois conjuntos de dados emparelhados**, como os resultados de dois modelos aplicados à mesma base de dados. Ele é a alternativa ao **teste t pareado** quando os dados **não seguem uma distribuição normal**.\n",
    "\n",
    "---\n",
    "\n",
    "#### Quando usar\n",
    "\n",
    "- Quando você quer comparar o desempenho de **dois modelos diferentes**, como suas acurácias em várias execuções, **com os mesmos conjuntos de dados**.\n",
    "- Quando os **valores são emparelhados** (ex: mesma amostra ou mesma rodada de validação cruzada).\n",
    "- Quando os **dados não são normalmente distribuídos** (violando o pressuposto do teste t pareado).\n",
    "\n",
    "---\n",
    "\n",
    "#### Hipóteses do teste\n",
    "\n",
    "- **Hipótese nula (H₀)**: a **mediana das diferenças** entre os pares é zero (ou seja, **não há diferença** entre os métodos).\n",
    "- **Hipótese alternativa (H₁)**: a mediana das diferenças **é diferente de zero** (há diferença entre os métodos).\n",
    "\n",
    "---\n",
    "\n",
    "#### Como funciona\n",
    "\n",
    "1. Calcula-se a diferença entre os pares de observações.\n",
    "2. Ignora-se o sinal e ordena-se as diferenças por magnitude.\n",
    "3. Atribuem-se ranks e somam-se separadamente os ranks dos valores positivos e negativos.\n",
    "4. Com isso, calcula-se uma **estatística W**, que é usada para obter o **valor p**.\n",
    "\n",
    "Exemplo prático (comparando dois modelos)\n",
    "\n",
    "Imagine que você fez 30 execuções de validação cruzada com dois modelos (por exemplo, Naive Bayes e Regressão Logística). Você obteve duas listas:\n",
    "\n",
    "resultados_naive_cv = [0.81, 0.79, 0.83, ..., 0.80]\n",
    "\n",
    "resultados_logistica_cv = [0.82, 0.77, 0.84, ..., 0.79]\n",
    "\n",
    "Esses vetores têm 30 valores cada, e cada elemento em resultados_naive_cv[i] corresponde à mesma rodada de validação que resultados_logistica_cv[i].\n",
    "\n",
    "Isso forma um par de observações para cada i.\n",
    "\n",
    "Para cada par de valores i, o teste calcula:\n",
    "\n",
    "diferença[i] = resultados_naive_cv[i] - resultados_logistica_cv[i]"
   ]
  },
  {
   "cell_type": "code",
   "execution_count": 154,
   "metadata": {},
   "outputs": [
    {
     "data": {
      "text/plain": [
       "np.float64(1.862645149230957e-09)"
      ]
     },
     "execution_count": 154,
     "metadata": {},
     "output_type": "execute_result"
    }
   ],
   "source": [
    "alpha = 0.05\n",
    "from scipy.stats import wilcoxon\n",
    "_, p = wilcoxon(resultados_naive_cv, resultados_logistica_cv)\n",
    "p"
   ]
  },
  {
   "cell_type": "code",
   "execution_count": 155,
   "metadata": {},
   "outputs": [
    {
     "data": {
      "text/plain": [
       "np.float64(1.862645149230957e-09)"
      ]
     },
     "execution_count": 155,
     "metadata": {},
     "output_type": "execute_result"
    }
   ],
   "source": [
    "_, p = wilcoxon(resultados_naive_cv, resultados_forest_cv)\n",
    "p"
   ]
  },
  {
   "cell_type": "code",
   "execution_count": 156,
   "metadata": {},
   "outputs": [
    {
     "data": {
      "text/plain": [
       "np.float64(1.862645149230957e-09)"
      ]
     },
     "execution_count": 156,
     "metadata": {},
     "output_type": "execute_result"
    }
   ],
   "source": [
    "_, p = wilcoxon(resultados_logistica_cv, resultados_forest_cv)\n",
    "p"
   ]
  },
  {
   "cell_type": "markdown",
   "metadata": {},
   "source": [
    "---\n",
    "\n",
    "#### Teste de Friedman"
   ]
  },
  {
   "cell_type": "markdown",
   "metadata": {},
   "source": [
    "\n",
    "\n",
    "O **teste de Friedman** é um **teste estatístico não paramétrico** utilizado para **comparar três ou mais métodos ou tratamentos relacionados**, quando os pressupostos do teste ANOVA de medidas repetidas **não são atendidos** — por exemplo, quando os dados **não seguem uma distribuição normal**.\n",
    "\n",
    "---\n",
    "\n",
    "####  Quando usar\n",
    "\n",
    "- Quando você quer comparar **três ou mais modelos** (ex: Naive Bayes, Regressão Logística e Random Forest),\n",
    "- E os modelos foram avaliados **sob as mesmas condições** (ex: mesma divisão de dados em validação cruzada),\n",
    "- Mas os dados **não são normalmente distribuídos** (o que inviabilizaria o uso da ANOVA).\n",
    "\n",
    "---\n",
    "\n",
    "####  Hipóteses do teste\n",
    "\n",
    "- **Hipótese nula (H₀)**: todos os modelos têm **desempenho equivalente** (as medianas são iguais).\n",
    "- **Hipótese alternativa (H₁)**: pelo menos um modelo **tem desempenho diferente** dos outros.\n",
    "\n",
    "---\n",
    "\n",
    "####  Como funciona\n",
    "\n",
    "1. Para cada execução (ex: uma rodada de validação cruzada), os modelos são **ranqueados**:\n",
    "   - O melhor modelo recebe rank 1, o segundo melhor rank 2, e assim por diante.\n",
    "2. O teste calcula a **soma dos ranks** de cada modelo ao longo das execuções.\n",
    "3. Com base nisso, calcula-se uma **estatística de teste** que indica se há diferença significativa entre os modelos.\n",
    "\n",
    "---\n"
   ]
  },
  {
   "cell_type": "code",
   "execution_count": 159,
   "metadata": {},
   "outputs": [
    {
     "data": {
      "text/plain": [
       "FriedmanchisquareResult(statistic=np.float64(60.0), pvalue=np.float64(9.357622968840163e-14))"
      ]
     },
     "execution_count": 159,
     "metadata": {},
     "output_type": "execute_result"
    }
   ],
   "source": [
    "\n",
    "from scipy.stats import friedmanchisquare\n",
    "\n",
    "friedmanchisquare(resultados_naive_cv, resultados_logistica_cv, resultados_forest_cv)"
   ]
  }
 ],
 "metadata": {
  "kernelspec": {
   "display_name": "base",
   "language": "python",
   "name": "python3"
  },
  "language_info": {
   "codemirror_mode": {
    "name": "ipython",
    "version": 3
   },
   "file_extension": ".py",
   "mimetype": "text/x-python",
   "name": "python",
   "nbconvert_exporter": "python",
   "pygments_lexer": "ipython3",
   "version": "3.11.5"
  }
 },
 "nbformat": 4,
 "nbformat_minor": 2
}