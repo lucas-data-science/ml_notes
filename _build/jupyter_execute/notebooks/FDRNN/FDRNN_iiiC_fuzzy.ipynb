{
 "cells": [
  {
   "cell_type": "markdown",
   "id": "ed6e2165",
   "metadata": {},
   "source": [
    "##  Extensões Fuzzy para Reduzir Incertezas\n",
    "\n",
    "### Problema abordado: Incerteza dos dados financeiros\n",
    "\n",
    "Embora o uso de redes neurais profundas (DL) tenha melhorado a capacidade de aprender representações do mercado, **há um outro desafio fundamental no domínio financeiro**:  \n",
    "> A **alta incerteza e imprevisibilidade dos dados financeiros**.\n",
    "\n",
    "Diferente de sinais como **imagens ou voz**, que têm padrões relativamente estáveis, os dados de mercado sofrem com:\n",
    "- Ruídos imprevisíveis e aleatórios (devido à natureza especulativa);\n",
    "- Fatores externos imprevisíveis como política, rumores, clima econômico global, etc.\n",
    "\n",
    "**Reduzir essa incerteza nos dados brutos** é uma estratégia importante para tornar o modelo mais robusto e confiável.\n",
    "\n",
    "---\n",
    "\n",
    "###  Solução: Representação Fuzzy\n",
    "\n",
    "Na comunidade de inteligência artificial, uma abordagem eficaz para lidar com incertezas é o **aprendizado fuzzy**.\n",
    "\n",
    "- Sistemas fuzzy não descrevem fenômenos com precisão rígida.\n",
    "- Em vez disso, usam **valores linguísticos fuzzy** como:\n",
    "  - “tendência de alta”,\n",
    "  - “sem tendência”,\n",
    "  - “tendência de baixa”.\n",
    "\n",
    "Esses valores são atribuídos por meio de **funções de pertinência fuzzy** que **mapeiam os dados reais para graus de pertencimento**.\n",
    "\n",
    "Assim, a rede trabalha apenas com essas representações fuzzy, tornando o processo de decisão mais robusto.\n",
    "\n",
    "---\n",
    "\n",
    "###  Aplicando ao problema financeiro\n",
    "\n",
    "Nesse modelo:\n",
    "- Cada retorno no vetor de entrada $\\bf f_t$ pode ser classificado em **três categorias fuzzy**:\n",
    "  - Tendência de alta (increasing)\n",
    "  - Tendência de baixa (decreasing)\n",
    "  - Sem tendência (no trend)\n",
    "\n",
    "Essas categorias são representadas por **funções de pertinência Gaussianas**, que assumem a forma:\n",
    "\n",
    "\n",
    " "
   ]
  },
  {
   "cell_type": "markdown",
   "id": "eb2c9747",
   "metadata": {},
   "source": [
    "$$ v_i(a_i) = exp( - (a_i - m_i)^2 / σ_i^2 )$$"
   ]
  },
  {
   "cell_type": "markdown",
   "id": "f696b559",
   "metadata": {},
   "source": [
    "\n",
    "Onde:\n",
    "- `v_i(a_i)` representa o **grau fuzzy** do valor de entrada `a_i`;\n",
    "- `m_i` é a média (centro da função);\n",
    "- `σ_i` é o desvio padrão (controle da largura da curva).\n",
    "\n",
    "---\n",
    "\n",
    "###   Implementação prática\n",
    "\n",
    "- Para cada feature do vetor de entrada `f_t`, são calculados **k graus de pertencimento fuzzy**.\n",
    "- No modelo do artigo, eles fixam `k = 3`:\n",
    "  - Uma função para cada tipo de tendência (alta, baixa, neutra).\n",
    "- Cada entrada é então **expandida em 3 valores fuzzy**, formando um vetor fuzzy de entrada com 3 vezes mais dimensões.\n",
    "\n",
    "Essa representação fuzzy é conectada diretamente à **rede profunda de transformação `g_d(·)`**.\n",
    "\n",
    "---\n",
    "\n",
    "###   Arquitetura final: Fuzzy DRNN (FDRNN)\n",
    "\n",
    "O modelo FDRNN é composto por **três blocos principais**:\n",
    "\n",
    "| Componente | Função |\n",
    "|------------|--------|\n",
    "| **Representação Fuzzy** `v(f_t)` | Reduzir a incerteza nos dados brutos |\n",
    "| **Transformação Profunda** `g_d(·)` | Aprender representações robustas do mercado |\n",
    "| **Tomada de Decisão (DRT)** | Gerar ações de trading baseadas na política aprendida |\n",
    "\n",
    "---\n",
    "\n",
    "###  Formulação final do problema (Equação 8)\n",
    "\n",
    "A otimização completa é expressa como:\n",
    "\n"
   ]
  },
  {
   "cell_type": "markdown",
   "id": "ce2f41c4",
   "metadata": {},
   "source": [
    "$$max \\{Θ, g_d(·), v(·)\\} \\ \\ U_T(R_1, ..., R_T)$$"
   ]
  },
  {
   "cell_type": "markdown",
   "id": "af95cb41",
   "metadata": {},
   "source": [
    "Sujeito a:\n",
    "$$\n",
    "R_t = δ_{t−1} * z_t − c * |δ_t − δ_{t−1}|\n",
    "$$\n",
    "$$\n",
    "δ_t = tanh( {\\bf w} · {\\bf F_t} + b + u · δ_{t−1} )\n",
    "$$\n",
    "$$\n",
    "{\\bf F_t} = g_d( v({\\bf f}_t) )\n",
    "$$"
   ]
  },
  {
   "cell_type": "markdown",
   "id": "738cd4ae",
   "metadata": {},
   "source": [
    "Onde:\n",
    "- **$Θ = {{\\bf w}, b, u}$**: parâmetros da política de trading;\n",
    "- **$v(·)$**: funções de pertinência fuzzy (aprendidas dos dados);\n",
    "- **$g_d(·)$**: rede profunda que transforma os dados fuzzy em representações abstratas;\n",
    "- **$δ_t$**: ação de trading final (posição);\n",
    "- **$U_T$**: função de recompensa a ser maximizada (lucro ou Sharpe ratio);\n",
    "- **$R_t$**: retorno líquido no tempo $t$.\n",
    "\n",
    "---\n",
    "\n",
    "###  Conclusão\n",
    "\n",
    "O modelo FDRNN é uma **arquitetura unificada e robusta** que combina:\n",
    "\n",
    "1. **Redução de ruído via representação fuzzy**;\n",
    "2. **Extração de padrões complexos via deep learning**;\n",
    "3. **Tomada de decisão contínua via reinforcement learning direto**.\n",
    "\n",
    "Essa combinação torna o modelo capaz de lidar melhor com:\n",
    "- Ambientes voláteis e não estacionários;\n",
    "- Dados altamente ruidosos;\n",
    "- Necessidade de decisões frequentes e em tempo real.\n",
    "\n",
    "Na próxima seção, o artigo explicará **como treinar essa arquitetura complexa de forma eficiente**, usando uma abordagem chamada **Task-aware Backpropagation Through Time**."
   ]
  },
  {
   "cell_type": "markdown",
   "id": "a54182de",
   "metadata": {},
   "source": []
  }
 ],
 "metadata": {
  "kernelspec": {
   "display_name": "Python 3",
   "language": "python",
   "name": "python3"
  },
  "language_info": {
   "codemirror_mode": {
    "name": "ipython",
    "version": 3
   },
   "file_extension": ".py",
   "mimetype": "text/x-python",
   "name": "python",
   "nbconvert_exporter": "python",
   "pygments_lexer": "ipython3",
   "version": "3.8.10"
  }
 },
 "nbformat": 4,
 "nbformat_minor": 5
}