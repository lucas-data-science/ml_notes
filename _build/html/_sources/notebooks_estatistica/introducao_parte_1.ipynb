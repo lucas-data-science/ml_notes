{
 "cells": [
  {
   "cell_type": "markdown",
   "metadata": {},
   "source": [
    "# Sobre a Parte I  \n",
    "\n",
    "A Estatística e a Ciência de Dados são duas faces da mesma moeda. Enquanto a Estatística fornece os fundamentos teóricos e os métodos para descrever, inferir e modelar dados, a Ciência de Dados amplia essas técnicas com o uso de tecnologia avançada, permitindo a aplicação em larga escala para resolver problemas complexos. Juntas, essas disciplinas capacitam organizações e indivíduos a transformar dados brutos em conhecimento acionável.  \n",
    "\n",
    "Nesta primeira parte do livro, exploraremos os principais conceitos estatísticos aplicados à Ciência de Dados, com ênfase na **Análise Exploratória de Dados (AED)**. A AED é uma etapa fundamental do processo analítico, pois permite identificar padrões, detectar anomalias e compreender a estrutura dos dados antes da modelagem preditiva. Além disso, abordaremos métodos estatísticos essenciais para a análise de dados, ilustrados por meio de códigos práticos.  \n",
    "\n",
    "Muito dos exemplos práticos apresentados são baseados no livro {cite:p}`bruce2020practical` e no curso da IA Expert Academy, [Estatística para Ciência de Dados e Machine Learning](https://iaexpert.academy/cursos-online-assinatura/estatistica-para-ciencia-de-dados-e-machine-learning/). \n",
    "\n",
    "Outros livros e referências teóricas utilizados ao longo do estudo serão citados no decorrer do texto, proporcionando um embasamento sólido para a compreensão dos conceitos abordados.  "
   ]
  },
  {
   "cell_type": "markdown",
   "metadata": {},
   "source": []
  }
 ],
 "metadata": {
  "language_info": {
   "name": "python"
  }
 },
 "nbformat": 4,
 "nbformat_minor": 2
}
